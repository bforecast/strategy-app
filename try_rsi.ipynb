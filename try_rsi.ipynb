{
 "cells": [
  {
   "cell_type": "code",
   "execution_count": 1,
   "metadata": {},
   "outputs": [
    {
     "data": {
      "text/plain": [
       "<vectorbt.data.custom.YFData at 0x1ecd8877b80>"
      ]
     },
     "execution_count": 1,
     "metadata": {},
     "output_type": "execute_result"
    }
   ],
   "source": [
    "import vectorbt as vbt\n",
    "import numpy as np\n",
    "import pandas as pd\n",
    "\n",
    "data = vbt.YFData.download(\"BTC-USD\", start='2017-01-01 UTC')\n",
    "open_price = data.get('Open')\n",
    "close_price = data.get('Close')\n",
    "data"
   ]
  },
  {
   "cell_type": "code",
   "execution_count": 2,
   "metadata": {},
   "outputs": [],
   "source": [
    "windows = list(range(8, 21))\n",
    "wtypes = [\"simple\", \"exp\", \"wilder\"]\n",
    "lower_ths = list(range(20, 31))\n",
    "upper_ths = list(range(70, 81))\n"
   ]
  },
  {
   "cell_type": "code",
   "execution_count": 14,
   "metadata": {},
   "outputs": [
    {
     "data": {
      "text/plain": [
       "Int64Index([8, 9, 10, 11, 12, 13, 14, 15, 16, 17, 18, 19, 20], dtype='int64', name='rsi_window')"
      ]
     },
     "execution_count": 14,
     "metadata": {},
     "output_type": "execute_result"
    }
   ],
   "source": [
    "rsi = vbt.RSI.run(\n",
    "            open_price, \n",
    "            window=windows, \n",
    "            param_product=True)\n",
    "rsi.rsi.columns"
   ]
  },
  {
   "cell_type": "code",
   "execution_count": 17,
   "metadata": {},
   "outputs": [
    {
     "data": {
      "text/plain": [
       "121"
      ]
     },
     "execution_count": 17,
     "metadata": {},
     "output_type": "execute_result"
    }
   ],
   "source": [
    "from itertools import product\n",
    "lower_ths_prod, upper_ths_prod = zip(*product(lower_ths, upper_ths))\n",
    "len(lower_ths_prod)"
   ]
  },
  {
   "cell_type": "code",
   "execution_count": 20,
   "metadata": {},
   "outputs": [
    {
     "data": {
      "text/plain": [
       "Int64Index([20, 20, 20, 20, 20, 20, 20, 20, 20, 20,\n",
       "            ...\n",
       "            30, 30, 30, 30, 30, 30, 30, 30, 30, 30],\n",
       "           dtype='int64', name='lower_th', length=121)"
      ]
     },
     "execution_count": 20,
     "metadata": {},
     "output_type": "execute_result"
    }
   ],
   "source": [
    "lower_th_index = pd.Index(lower_ths_prod, name='lower_th')\n",
    "lower_th_index\n"
   ]
  },
  {
   "cell_type": "code",
   "execution_count": 24,
   "metadata": {},
   "outputs": [
    {
     "data": {
      "text/html": [
       "<div>\n",
       "<style scoped>\n",
       "    .dataframe tbody tr th:only-of-type {\n",
       "        vertical-align: middle;\n",
       "    }\n",
       "\n",
       "    .dataframe tbody tr th {\n",
       "        vertical-align: top;\n",
       "    }\n",
       "\n",
       "    .dataframe thead tr th {\n",
       "        text-align: left;\n",
       "    }\n",
       "\n",
       "    .dataframe thead tr:last-of-type th {\n",
       "        text-align: right;\n",
       "    }\n",
       "</style>\n",
       "<table border=\"1\" class=\"dataframe\">\n",
       "  <thead>\n",
       "    <tr>\n",
       "      <th>lower</th>\n",
       "      <th colspan=\"10\" halign=\"left\">20</th>\n",
       "      <th>...</th>\n",
       "      <th colspan=\"10\" halign=\"left\">30</th>\n",
       "    </tr>\n",
       "    <tr>\n",
       "      <th>rsi_window</th>\n",
       "      <th>8</th>\n",
       "      <th>9</th>\n",
       "      <th>10</th>\n",
       "      <th>11</th>\n",
       "      <th>12</th>\n",
       "      <th>13</th>\n",
       "      <th>14</th>\n",
       "      <th>15</th>\n",
       "      <th>16</th>\n",
       "      <th>17</th>\n",
       "      <th>...</th>\n",
       "      <th>11</th>\n",
       "      <th>12</th>\n",
       "      <th>13</th>\n",
       "      <th>14</th>\n",
       "      <th>15</th>\n",
       "      <th>16</th>\n",
       "      <th>17</th>\n",
       "      <th>18</th>\n",
       "      <th>19</th>\n",
       "      <th>20</th>\n",
       "    </tr>\n",
       "    <tr>\n",
       "      <th>Date</th>\n",
       "      <th></th>\n",
       "      <th></th>\n",
       "      <th></th>\n",
       "      <th></th>\n",
       "      <th></th>\n",
       "      <th></th>\n",
       "      <th></th>\n",
       "      <th></th>\n",
       "      <th></th>\n",
       "      <th></th>\n",
       "      <th></th>\n",
       "      <th></th>\n",
       "      <th></th>\n",
       "      <th></th>\n",
       "      <th></th>\n",
       "      <th></th>\n",
       "      <th></th>\n",
       "      <th></th>\n",
       "      <th></th>\n",
       "      <th></th>\n",
       "      <th></th>\n",
       "    </tr>\n",
       "  </thead>\n",
       "  <tbody>\n",
       "    <tr>\n",
       "      <th>2017-01-01 00:00:00+00:00</th>\n",
       "      <td>False</td>\n",
       "      <td>False</td>\n",
       "      <td>False</td>\n",
       "      <td>False</td>\n",
       "      <td>False</td>\n",
       "      <td>False</td>\n",
       "      <td>False</td>\n",
       "      <td>False</td>\n",
       "      <td>False</td>\n",
       "      <td>False</td>\n",
       "      <td>...</td>\n",
       "      <td>False</td>\n",
       "      <td>False</td>\n",
       "      <td>False</td>\n",
       "      <td>False</td>\n",
       "      <td>False</td>\n",
       "      <td>False</td>\n",
       "      <td>False</td>\n",
       "      <td>False</td>\n",
       "      <td>False</td>\n",
       "      <td>False</td>\n",
       "    </tr>\n",
       "    <tr>\n",
       "      <th>2017-01-02 00:00:00+00:00</th>\n",
       "      <td>False</td>\n",
       "      <td>False</td>\n",
       "      <td>False</td>\n",
       "      <td>False</td>\n",
       "      <td>False</td>\n",
       "      <td>False</td>\n",
       "      <td>False</td>\n",
       "      <td>False</td>\n",
       "      <td>False</td>\n",
       "      <td>False</td>\n",
       "      <td>...</td>\n",
       "      <td>False</td>\n",
       "      <td>False</td>\n",
       "      <td>False</td>\n",
       "      <td>False</td>\n",
       "      <td>False</td>\n",
       "      <td>False</td>\n",
       "      <td>False</td>\n",
       "      <td>False</td>\n",
       "      <td>False</td>\n",
       "      <td>False</td>\n",
       "    </tr>\n",
       "    <tr>\n",
       "      <th>2017-01-03 00:00:00+00:00</th>\n",
       "      <td>False</td>\n",
       "      <td>False</td>\n",
       "      <td>False</td>\n",
       "      <td>False</td>\n",
       "      <td>False</td>\n",
       "      <td>False</td>\n",
       "      <td>False</td>\n",
       "      <td>False</td>\n",
       "      <td>False</td>\n",
       "      <td>False</td>\n",
       "      <td>...</td>\n",
       "      <td>False</td>\n",
       "      <td>False</td>\n",
       "      <td>False</td>\n",
       "      <td>False</td>\n",
       "      <td>False</td>\n",
       "      <td>False</td>\n",
       "      <td>False</td>\n",
       "      <td>False</td>\n",
       "      <td>False</td>\n",
       "      <td>False</td>\n",
       "    </tr>\n",
       "    <tr>\n",
       "      <th>2017-01-04 00:00:00+00:00</th>\n",
       "      <td>False</td>\n",
       "      <td>False</td>\n",
       "      <td>False</td>\n",
       "      <td>False</td>\n",
       "      <td>False</td>\n",
       "      <td>False</td>\n",
       "      <td>False</td>\n",
       "      <td>False</td>\n",
       "      <td>False</td>\n",
       "      <td>False</td>\n",
       "      <td>...</td>\n",
       "      <td>False</td>\n",
       "      <td>False</td>\n",
       "      <td>False</td>\n",
       "      <td>False</td>\n",
       "      <td>False</td>\n",
       "      <td>False</td>\n",
       "      <td>False</td>\n",
       "      <td>False</td>\n",
       "      <td>False</td>\n",
       "      <td>False</td>\n",
       "    </tr>\n",
       "    <tr>\n",
       "      <th>2017-01-05 00:00:00+00:00</th>\n",
       "      <td>False</td>\n",
       "      <td>False</td>\n",
       "      <td>False</td>\n",
       "      <td>False</td>\n",
       "      <td>False</td>\n",
       "      <td>False</td>\n",
       "      <td>False</td>\n",
       "      <td>False</td>\n",
       "      <td>False</td>\n",
       "      <td>False</td>\n",
       "      <td>...</td>\n",
       "      <td>False</td>\n",
       "      <td>False</td>\n",
       "      <td>False</td>\n",
       "      <td>False</td>\n",
       "      <td>False</td>\n",
       "      <td>False</td>\n",
       "      <td>False</td>\n",
       "      <td>False</td>\n",
       "      <td>False</td>\n",
       "      <td>False</td>\n",
       "    </tr>\n",
       "    <tr>\n",
       "      <th>...</th>\n",
       "      <td>...</td>\n",
       "      <td>...</td>\n",
       "      <td>...</td>\n",
       "      <td>...</td>\n",
       "      <td>...</td>\n",
       "      <td>...</td>\n",
       "      <td>...</td>\n",
       "      <td>...</td>\n",
       "      <td>...</td>\n",
       "      <td>...</td>\n",
       "      <td>...</td>\n",
       "      <td>...</td>\n",
       "      <td>...</td>\n",
       "      <td>...</td>\n",
       "      <td>...</td>\n",
       "      <td>...</td>\n",
       "      <td>...</td>\n",
       "      <td>...</td>\n",
       "      <td>...</td>\n",
       "      <td>...</td>\n",
       "      <td>...</td>\n",
       "    </tr>\n",
       "    <tr>\n",
       "      <th>2022-09-22 00:00:00+00:00</th>\n",
       "      <td>False</td>\n",
       "      <td>True</td>\n",
       "      <td>False</td>\n",
       "      <td>False</td>\n",
       "      <td>False</td>\n",
       "      <td>False</td>\n",
       "      <td>False</td>\n",
       "      <td>False</td>\n",
       "      <td>False</td>\n",
       "      <td>False</td>\n",
       "      <td>...</td>\n",
       "      <td>False</td>\n",
       "      <td>True</td>\n",
       "      <td>False</td>\n",
       "      <td>False</td>\n",
       "      <td>False</td>\n",
       "      <td>False</td>\n",
       "      <td>False</td>\n",
       "      <td>False</td>\n",
       "      <td>False</td>\n",
       "      <td>False</td>\n",
       "    </tr>\n",
       "    <tr>\n",
       "      <th>2022-09-23 00:00:00+00:00</th>\n",
       "      <td>False</td>\n",
       "      <td>False</td>\n",
       "      <td>False</td>\n",
       "      <td>False</td>\n",
       "      <td>False</td>\n",
       "      <td>False</td>\n",
       "      <td>False</td>\n",
       "      <td>False</td>\n",
       "      <td>False</td>\n",
       "      <td>False</td>\n",
       "      <td>...</td>\n",
       "      <td>False</td>\n",
       "      <td>False</td>\n",
       "      <td>False</td>\n",
       "      <td>False</td>\n",
       "      <td>False</td>\n",
       "      <td>False</td>\n",
       "      <td>False</td>\n",
       "      <td>False</td>\n",
       "      <td>False</td>\n",
       "      <td>False</td>\n",
       "    </tr>\n",
       "    <tr>\n",
       "      <th>2022-09-24 00:00:00+00:00</th>\n",
       "      <td>False</td>\n",
       "      <td>False</td>\n",
       "      <td>False</td>\n",
       "      <td>False</td>\n",
       "      <td>False</td>\n",
       "      <td>False</td>\n",
       "      <td>False</td>\n",
       "      <td>False</td>\n",
       "      <td>False</td>\n",
       "      <td>False</td>\n",
       "      <td>...</td>\n",
       "      <td>True</td>\n",
       "      <td>False</td>\n",
       "      <td>False</td>\n",
       "      <td>False</td>\n",
       "      <td>False</td>\n",
       "      <td>False</td>\n",
       "      <td>False</td>\n",
       "      <td>False</td>\n",
       "      <td>False</td>\n",
       "      <td>False</td>\n",
       "    </tr>\n",
       "    <tr>\n",
       "      <th>2022-09-25 00:00:00+00:00</th>\n",
       "      <td>False</td>\n",
       "      <td>False</td>\n",
       "      <td>False</td>\n",
       "      <td>False</td>\n",
       "      <td>False</td>\n",
       "      <td>False</td>\n",
       "      <td>False</td>\n",
       "      <td>False</td>\n",
       "      <td>False</td>\n",
       "      <td>False</td>\n",
       "      <td>...</td>\n",
       "      <td>False</td>\n",
       "      <td>True</td>\n",
       "      <td>True</td>\n",
       "      <td>False</td>\n",
       "      <td>False</td>\n",
       "      <td>False</td>\n",
       "      <td>False</td>\n",
       "      <td>False</td>\n",
       "      <td>False</td>\n",
       "      <td>False</td>\n",
       "    </tr>\n",
       "    <tr>\n",
       "      <th>2022-09-26 00:00:00+00:00</th>\n",
       "      <td>False</td>\n",
       "      <td>False</td>\n",
       "      <td>False</td>\n",
       "      <td>False</td>\n",
       "      <td>False</td>\n",
       "      <td>False</td>\n",
       "      <td>False</td>\n",
       "      <td>False</td>\n",
       "      <td>False</td>\n",
       "      <td>False</td>\n",
       "      <td>...</td>\n",
       "      <td>False</td>\n",
       "      <td>False</td>\n",
       "      <td>False</td>\n",
       "      <td>True</td>\n",
       "      <td>False</td>\n",
       "      <td>False</td>\n",
       "      <td>False</td>\n",
       "      <td>False</td>\n",
       "      <td>False</td>\n",
       "      <td>False</td>\n",
       "    </tr>\n",
       "  </tbody>\n",
       "</table>\n",
       "<p>2095 rows × 1573 columns</p>\n",
       "</div>"
      ],
      "text/plain": [
       "lower                         20                                            \\\n",
       "rsi_window                    8      9      10     11     12     13     14   \n",
       "Date                                                                         \n",
       "2017-01-01 00:00:00+00:00  False  False  False  False  False  False  False   \n",
       "2017-01-02 00:00:00+00:00  False  False  False  False  False  False  False   \n",
       "2017-01-03 00:00:00+00:00  False  False  False  False  False  False  False   \n",
       "2017-01-04 00:00:00+00:00  False  False  False  False  False  False  False   \n",
       "2017-01-05 00:00:00+00:00  False  False  False  False  False  False  False   \n",
       "...                          ...    ...    ...    ...    ...    ...    ...   \n",
       "2022-09-22 00:00:00+00:00  False   True  False  False  False  False  False   \n",
       "2022-09-23 00:00:00+00:00  False  False  False  False  False  False  False   \n",
       "2022-09-24 00:00:00+00:00  False  False  False  False  False  False  False   \n",
       "2022-09-25 00:00:00+00:00  False  False  False  False  False  False  False   \n",
       "2022-09-26 00:00:00+00:00  False  False  False  False  False  False  False   \n",
       "\n",
       "lower                                           ...     30                \\\n",
       "rsi_window                    15     16     17  ...     11     12     13   \n",
       "Date                                            ...                        \n",
       "2017-01-01 00:00:00+00:00  False  False  False  ...  False  False  False   \n",
       "2017-01-02 00:00:00+00:00  False  False  False  ...  False  False  False   \n",
       "2017-01-03 00:00:00+00:00  False  False  False  ...  False  False  False   \n",
       "2017-01-04 00:00:00+00:00  False  False  False  ...  False  False  False   \n",
       "2017-01-05 00:00:00+00:00  False  False  False  ...  False  False  False   \n",
       "...                          ...    ...    ...  ...    ...    ...    ...   \n",
       "2022-09-22 00:00:00+00:00  False  False  False  ...  False   True  False   \n",
       "2022-09-23 00:00:00+00:00  False  False  False  ...  False  False  False   \n",
       "2022-09-24 00:00:00+00:00  False  False  False  ...   True  False  False   \n",
       "2022-09-25 00:00:00+00:00  False  False  False  ...  False   True   True   \n",
       "2022-09-26 00:00:00+00:00  False  False  False  ...  False  False  False   \n",
       "\n",
       "lower                                                                       \n",
       "rsi_window                    14     15     16     17     18     19     20  \n",
       "Date                                                                        \n",
       "2017-01-01 00:00:00+00:00  False  False  False  False  False  False  False  \n",
       "2017-01-02 00:00:00+00:00  False  False  False  False  False  False  False  \n",
       "2017-01-03 00:00:00+00:00  False  False  False  False  False  False  False  \n",
       "2017-01-04 00:00:00+00:00  False  False  False  False  False  False  False  \n",
       "2017-01-05 00:00:00+00:00  False  False  False  False  False  False  False  \n",
       "...                          ...    ...    ...    ...    ...    ...    ...  \n",
       "2022-09-22 00:00:00+00:00  False  False  False  False  False  False  False  \n",
       "2022-09-23 00:00:00+00:00  False  False  False  False  False  False  False  \n",
       "2022-09-24 00:00:00+00:00  False  False  False  False  False  False  False  \n",
       "2022-09-25 00:00:00+00:00  False  False  False  False  False  False  False  \n",
       "2022-09-26 00:00:00+00:00   True  False  False  False  False  False  False  \n",
       "\n",
       "[2095 rows x 1573 columns]"
      ]
     },
     "execution_count": 24,
     "metadata": {},
     "output_type": "execute_result"
    }
   ],
   "source": [
    "rsi.rsi_crossed_below(lower_ths_prod, level_name='lower')"
   ]
  },
  {
   "cell_type": "markdown",
   "metadata": {},
   "source": [
    "###Superfast-supertrend"
   ]
  },
  {
   "cell_type": "code",
   "execution_count": 2,
   "metadata": {},
   "outputs": [
    {
     "name": "stdout",
     "output_type": "stream",
     "text": [
      "Date\n",
      "2017-01-01 00:00:00+00:00      998.325012\n",
      "2017-01-02 00:00:00+00:00     1021.750000\n",
      "2017-01-03 00:00:00+00:00     1043.839966\n",
      "2017-01-04 00:00:00+00:00     1154.729980\n",
      "2017-01-05 00:00:00+00:00     1013.380005\n",
      "                                 ...     \n",
      "2022-10-03 00:00:00+00:00    19623.580078\n",
      "2022-10-04 00:00:00+00:00    20336.843750\n",
      "2022-10-05 00:00:00+00:00    20160.716797\n",
      "2022-10-06 00:00:00+00:00    19955.443359\n",
      "2022-10-07 00:00:00+00:00    20005.662109\n",
      "Freq: D, Name: Close, Length: 2106, dtype: float64\n"
     ]
    }
   ],
   "source": [
    "data = vbt.YFData.download(\"BTC-USD\", start='2017-01-01 UTC')\n",
    "\n",
    "high = data.get('High')\n",
    "low = data.get('Low')\n",
    "close = data.get('Close')\n",
    "\n",
    "print(close)"
   ]
  },
  {
   "cell_type": "code",
   "execution_count": 4,
   "metadata": {},
   "outputs": [],
   "source": [
    "# import pandas as pd\n",
    "# import numpy as np\n",
    "\n",
    "# def get_med_price(high, low):\n",
    "#     return (high + low) / 2\n",
    "  \n",
    "# def get_atr(high, low, close, period):\n",
    "#     tr0 = abs(high - low)\n",
    "#     tr1 = abs(high - close.shift())\n",
    "#     tr2 = abs(low - close.shift())\n",
    "#     tr = pd.concat((tr0, tr1, tr2), axis=1).max(axis=1)\n",
    "#     atr = tr.ewm(alpha=1 / period, adjust=False, min_periods=period).mean()\n",
    "#     return atr\n",
    "  \n",
    "# def get_basic_bands(med_price, atr, multiplier):\n",
    "#     matr = multiplier * atr\n",
    "#     upper = med_price + matr\n",
    "#     lower = med_price - matr\n",
    "#     return upper, lower\n",
    "  \n",
    "# def get_final_bands(close, upper, lower):\n",
    "#     trend = pd.Series(np.full(close.shape, np.nan), index=close.index)\n",
    "#     dir_ = pd.Series(np.full(close.shape, 1), index=close.index)\n",
    "#     long = pd.Series(np.full(close.shape, np.nan), index=close.index)\n",
    "#     short = pd.Series(np.full(close.shape, np.nan), index=close.index)\n",
    "\n",
    "#     for i in range(1, close.shape[0]):\n",
    "#         if close.iloc[i] > upper.iloc[i - 1]:\n",
    "#             dir_.iloc[i] = 1\n",
    "#         elif close.iloc[i] < lower.iloc[i - 1]:\n",
    "#             dir_.iloc[i] = -1\n",
    "#         else:\n",
    "#             dir_.iloc[i] = dir_.iloc[i - 1]\n",
    "#             if dir_.iloc[i] > 0 and lower.iloc[i] < lower.iloc[i - 1]:\n",
    "#                 lower.iloc[i] = lower.iloc[i - 1]\n",
    "#             if dir_.iloc[i] < 0 and upper.iloc[i] > upper.iloc[i - 1]:\n",
    "#                 upper.iloc[i] = upper.iloc[i - 1]\n",
    "\n",
    "#         if dir_.iloc[i] > 0:\n",
    "#             trend.iloc[i] = long.iloc[i] = lower.iloc[i]\n",
    "#         else:\n",
    "#             trend.iloc[i] = short.iloc[i] = upper.iloc[i]\n",
    "            \n",
    "#     return trend, dir_, long, short\n",
    "  \n",
    "# def supertrend(high, low, close, period=7, multiplier=3):\n",
    "#     med_price = get_med_price(high, low)\n",
    "#     atr = get_atr(high, low, close, period)\n",
    "#     upper, lower = get_basic_bands(med_price, atr, multiplier)\n",
    "#     return get_final_bands(close, upper, lower)"
   ]
  },
  {
   "cell_type": "code",
   "execution_count": 9,
   "metadata": {},
   "outputs": [
    {
     "name": "stdout",
     "output_type": "stream",
     "text": [
      "Date\n",
      "2017-01-01 00:00:00+00:00             NaN\n",
      "2017-01-02 00:00:00+00:00             NaN\n",
      "2017-01-03 00:00:00+00:00             NaN\n",
      "2017-01-04 00:00:00+00:00             NaN\n",
      "2017-01-05 00:00:00+00:00             NaN\n",
      "                                 ...     \n",
      "2022-10-02 00:00:00+00:00    21291.322061\n",
      "2022-10-03 00:00:00+00:00    21291.322061\n",
      "2022-10-04 00:00:00+00:00    21291.322061\n",
      "2022-10-05 00:00:00+00:00    21291.322061\n",
      "2022-10-06 00:00:00+00:00    21291.322061\n",
      "Freq: D, Length: 2105, dtype: float64\n"
     ]
    }
   ],
   "source": [
    "supert, superd, superl, supers = supertrend(high, low, close)\n",
    "print(supert)"
   ]
  },
  {
   "cell_type": "code",
   "execution_count": 11,
   "metadata": {},
   "outputs": [
    {
     "ename": "NameError",
     "evalue": "name 'supers' is not defined",
     "output_type": "error",
     "traceback": [
      "\u001b[1;31m---------------------------------------------------------------------------\u001b[0m",
      "\u001b[1;31mNameError\u001b[0m                                 Traceback (most recent call last)",
      "\u001b[1;32md:\\Py-Project\\strategy-app\\try_rsi.ipynb Cell 11\u001b[0m in \u001b[0;36m<cell line: 3>\u001b[1;34m()\u001b[0m\n\u001b[0;32m      <a href='vscode-notebook-cell:/d%3A/Py-Project/strategy-app/try_rsi.ipynb#X13sZmlsZQ%3D%3D?line=0'>1</a>\u001b[0m date_range \u001b[39m=\u001b[39m \u001b[39mslice\u001b[39m(\u001b[39m'\u001b[39m\u001b[39m2020-01-01\u001b[39m\u001b[39m'\u001b[39m, \u001b[39m'\u001b[39m\u001b[39m2022-02-01\u001b[39m\u001b[39m'\u001b[39m)\n\u001b[0;32m      <a href='vscode-notebook-cell:/d%3A/Py-Project/strategy-app/try_rsi.ipynb#X13sZmlsZQ%3D%3D?line=1'>2</a>\u001b[0m fig \u001b[39m=\u001b[39m close\u001b[39m.\u001b[39mloc[date_range]\u001b[39m.\u001b[39mrename(\u001b[39m'\u001b[39m\u001b[39mClose\u001b[39m\u001b[39m'\u001b[39m)\u001b[39m.\u001b[39mvbt\u001b[39m.\u001b[39mplot()\n\u001b[1;32m----> <a href='vscode-notebook-cell:/d%3A/Py-Project/strategy-app/try_rsi.ipynb#X13sZmlsZQ%3D%3D?line=2'>3</a>\u001b[0m supers\u001b[39m.\u001b[39mloc[date_range]\u001b[39m.\u001b[39mrename(\u001b[39m'\u001b[39m\u001b[39mShort\u001b[39m\u001b[39m'\u001b[39m)\u001b[39m.\u001b[39mvbt\u001b[39m.\u001b[39mplot(fig\u001b[39m=\u001b[39mfig)\n\u001b[0;32m      <a href='vscode-notebook-cell:/d%3A/Py-Project/strategy-app/try_rsi.ipynb#X13sZmlsZQ%3D%3D?line=3'>4</a>\u001b[0m superl\u001b[39m.\u001b[39mloc[date_range]\u001b[39m.\u001b[39mrename(\u001b[39m'\u001b[39m\u001b[39mLong\u001b[39m\u001b[39m'\u001b[39m)\u001b[39m.\u001b[39mvbt\u001b[39m.\u001b[39mplot(fig\u001b[39m=\u001b[39mfig)\u001b[39m.\u001b[39mshow_svg()\n",
      "\u001b[1;31mNameError\u001b[0m: name 'supers' is not defined"
     ]
    }
   ],
   "source": [
    "date_range = slice('2020-01-01', '2022-02-01')\n",
    "fig = close.loc[date_range].rename('Close').vbt.plot()\n",
    "supers.loc[date_range].rename('Short').vbt.plot(fig=fig)\n",
    "superl.loc[date_range].rename('Long').vbt.plot(fig=fig).show_svg()"
   ]
  },
  {
   "cell_type": "code",
   "execution_count": 16,
   "metadata": {},
   "outputs": [
    {
     "name": "stdout",
     "output_type": "stream",
     "text": [
      "271 ms ± 4.16 ms per loop (mean ± std. dev. of 7 runs, 1 loop each)\n"
     ]
    }
   ],
   "source": [
    "%%timeit\n",
    "supertrend(high, low, close)"
   ]
  },
  {
   "cell_type": "code",
   "execution_count": 3,
   "metadata": {},
   "outputs": [],
   "source": [
    "def get_atr(high, low, close, period):\n",
    "    shifted_close = vbt.nb.fshift_1d_nb(close)\n",
    "    tr0 = np.abs(high - low)\n",
    "    tr1 = np.abs(high - shifted_close)\n",
    "    tr2 = np.abs(low - shifted_close)\n",
    "    tr = np.column_stack((tr0, tr1, tr2)).max(axis=1)\n",
    "    atr = vbt.nb.wwm_mean_1d_nb(tr, period)\n",
    "    return atr"
   ]
  },
  {
   "cell_type": "code",
   "execution_count": 4,
   "metadata": {},
   "outputs": [],
   "source": [
    "from numba import njit\n",
    "\n",
    "@njit\n",
    "def get_final_bands_nb(close, upper, lower):\n",
    "    trend = np.full(close.shape, np.nan)\n",
    "    dir_ = np.full(close.shape, 1)\n",
    "    long = np.full(close.shape, np.nan)\n",
    "    short = np.full(close.shape, np.nan)\n",
    "\n",
    "    for i in range(1, close.shape[0]):\n",
    "        if close[i] > upper[i - 1]:\n",
    "            dir_[i] = 1\n",
    "        elif close[i] < lower[i - 1]:\n",
    "            dir_[i] = -1\n",
    "        else:\n",
    "            dir_[i] = dir_[i - 1]\n",
    "            if dir_[i] > 0 and lower[i] < lower[i - 1]:\n",
    "                lower[i] = lower[i - 1]\n",
    "            if dir_[i] < 0 and upper[i] > upper[i - 1]:\n",
    "                upper[i] = upper[i - 1]\n",
    "\n",
    "        if dir_[i] > 0:\n",
    "            trend[i] = long[i] = lower[i]\n",
    "        else:\n",
    "            trend[i] = short[i] = upper[i]\n",
    "            \n",
    "    return trend, dir_, long, short"
   ]
  },
  {
   "cell_type": "code",
   "execution_count": 61,
   "metadata": {},
   "outputs": [],
   "source": [
    "@njit\n",
    "def get_basic_bands(med_price, atr, multiplier):\n",
    "    matr = multiplier * atr\n",
    "    upper = med_price + matr\n",
    "    lower = med_price - matr\n",
    "    return upper, lower"
   ]
  },
  {
   "cell_type": "code",
   "execution_count": 72,
   "metadata": {},
   "outputs": [],
   "source": [
    "import talib\n",
    "\n",
    "def faster_supertrend_talib(high, low, close, period, multiplier):\n",
    "    avg_price = np.full(close.shape, np.nan)\n",
    "    atr = np.full(close.shape, np.nan)\n",
    "    upper = np.full(close.shape, np.nan)\n",
    "    lower = np.full(close.shape, np.nan)\n",
    "    for col in range(close.shape[1]):\n",
    "        avg_price[:,col] = talib.MEDPRICE(high[:,col], low[:,col])\n",
    "        atr[:,col] = talib.ATR(high[:,col], low[:,col], close[:,col], period)\n",
    "        upper[:,col], lower[:,col] = get_basic_bands(avg_price[:,col], atr[:,col], multiplier)\n",
    "    return get_final_bands_nb(close, upper, lower)\n",
    "\n"
   ]
  },
  {
   "cell_type": "code",
   "execution_count": 73,
   "metadata": {},
   "outputs": [],
   "source": [
    "SuperTrend = vbt.IndicatorFactory(\n",
    "     class_name='SuperTrend',\n",
    "     input_names=['high', 'low', 'close'],\n",
    "     param_names=['period', 'multiplier'],\n",
    "     output_names=['supert', 'superd', 'superl', 'supers']\n",
    " ).from_apply_func(\n",
    "     faster_supertrend_talib\n",
    " )\n"
   ]
  },
  {
   "cell_type": "code",
   "execution_count": 74,
   "metadata": {},
   "outputs": [
    {
     "name": "stdout",
     "output_type": "stream",
     "text": [
      "Date\n",
      "2017-01-01 00:00:00+00:00             NaN\n",
      "2017-01-02 00:00:00+00:00             NaN\n",
      "2017-01-03 00:00:00+00:00             NaN\n",
      "2017-01-04 00:00:00+00:00             NaN\n",
      "2017-01-05 00:00:00+00:00             NaN\n",
      "                                 ...     \n",
      "2022-10-03 00:00:00+00:00    21291.322061\n",
      "2022-10-04 00:00:00+00:00    21291.322061\n",
      "2022-10-05 00:00:00+00:00    21291.322061\n",
      "2022-10-06 00:00:00+00:00    21291.322061\n",
      "2022-10-07 00:00:00+00:00    21291.322061\n",
      "Freq: D, Name: (7, 3), Length: 2106, dtype: float64\n"
     ]
    }
   ],
   "source": [
    "st = SuperTrend.run(high, low, close,\n",
    "     period=7,  \n",
    "     multiplier=3,\n",
    "     param_product=True)\n",
    "print(st.supert)"
   ]
  },
  {
   "cell_type": "code",
   "execution_count": 9,
   "metadata": {},
   "outputs": [],
   "source": [
    "# class SuperTrend(SuperTrend):\n",
    "#     def plot(self, \n",
    "#              column=None, \n",
    "#              close_kwargs=None,\n",
    "#              superl_kwargs=None,\n",
    "#              supers_kwargs=None,\n",
    "#              fig=None, \n",
    "#              **layout_kwargs):\n",
    "#         close_kwargs = close_kwargs if close_kwargs else {}\n",
    "#         superl_kwargs = superl_kwargs if superl_kwargs else {}\n",
    "#         supers_kwargs = supers_kwargs if supers_kwargs else {}\n",
    "        \n",
    "#         close = self.select_col_from_obj(self.close, column).rename('Close')\n",
    "#         supers = self.select_col_from_obj(self.supers, column).rename('Short')\n",
    "#         superl = self.select_col_from_obj(self.superl, column).rename('Long')\n",
    "        \n",
    "#         fig = close.vbt.plot(fig=fig, **close_kwargs, **layout_kwargs)\n",
    "#         supers.vbt.plot(fig=fig, **supers_kwargs)\n",
    "#         superl.vbt.plot(fig=fig, **superl_kwargs)\n",
    "        \n",
    "#         return fig"
   ]
  },
  {
   "cell_type": "code",
   "execution_count": 12,
   "metadata": {},
   "outputs": [
    {
     "name": "stdout",
     "output_type": "stream",
     "text": [
      "[7]\n",
      "[3]\n",
      "[[  998.32501221]\n",
      " [ 1021.75      ]\n",
      " [ 1043.83996582]\n",
      " ...\n",
      " [20160.71679688]\n",
      " [19955.44335938]\n",
      " [19993.2578125 ]]\n"
     ]
    },
    {
     "ename": "AttributeError",
     "evalue": "'SuperTrend' object has no attribute 'select_col_from_obj'",
     "output_type": "error",
     "traceback": [
      "\u001b[1;31m---------------------------------------------------------------------------\u001b[0m",
      "\u001b[1;31mAttributeError\u001b[0m                            Traceback (most recent call last)",
      "\u001b[1;32md:\\Py-Project\\strategy-app\\try_rsi.ipynb Cell 19\u001b[0m in \u001b[0;36m<cell line: 2>\u001b[1;34m()\u001b[0m\n\u001b[0;32m      <a href='vscode-notebook-cell:/d%3A/Py-Project/strategy-app/try_rsi.ipynb#X24sZmlsZQ%3D%3D?line=0'>1</a>\u001b[0m st \u001b[39m=\u001b[39m SuperTrend\u001b[39m.\u001b[39mrun(high, low, close)\n\u001b[1;32m----> <a href='vscode-notebook-cell:/d%3A/Py-Project/strategy-app/try_rsi.ipynb#X24sZmlsZQ%3D%3D?line=1'>2</a>\u001b[0m st\u001b[39m.\u001b[39;49mloc[date_range]\u001b[39m.\u001b[39;49mplot(\n\u001b[0;32m      <a href='vscode-notebook-cell:/d%3A/Py-Project/strategy-app/try_rsi.ipynb#X24sZmlsZQ%3D%3D?line=2'>3</a>\u001b[0m     superl_kwargs\u001b[39m=\u001b[39;49m\u001b[39mdict\u001b[39;49m(trace_kwargs\u001b[39m=\u001b[39;49m\u001b[39mdict\u001b[39;49m(line_color\u001b[39m=\u001b[39;49m\u001b[39m'\u001b[39;49m\u001b[39mlimegreen\u001b[39;49m\u001b[39m'\u001b[39;49m)),\n\u001b[0;32m      <a href='vscode-notebook-cell:/d%3A/Py-Project/strategy-app/try_rsi.ipynb#X24sZmlsZQ%3D%3D?line=3'>4</a>\u001b[0m     supers_kwargs\u001b[39m=\u001b[39;49m\u001b[39mdict\u001b[39;49m(trace_kwargs\u001b[39m=\u001b[39;49m\u001b[39mdict\u001b[39;49m(line_color\u001b[39m=\u001b[39;49m\u001b[39m'\u001b[39;49m\u001b[39mred\u001b[39;49m\u001b[39m'\u001b[39;49m))\n\u001b[0;32m      <a href='vscode-notebook-cell:/d%3A/Py-Project/strategy-app/try_rsi.ipynb#X24sZmlsZQ%3D%3D?line=4'>5</a>\u001b[0m )\n",
      "\u001b[1;32md:\\Py-Project\\strategy-app\\try_rsi.ipynb Cell 19\u001b[0m in \u001b[0;36mSuperTrend.plot\u001b[1;34m(self, column, close_kwargs, superl_kwargs, supers_kwargs, fig, **layout_kwargs)\u001b[0m\n\u001b[0;32m     <a href='vscode-notebook-cell:/d%3A/Py-Project/strategy-app/try_rsi.ipynb#X24sZmlsZQ%3D%3D?line=9'>10</a>\u001b[0m superl_kwargs \u001b[39m=\u001b[39m superl_kwargs \u001b[39mif\u001b[39;00m superl_kwargs \u001b[39melse\u001b[39;00m {}\n\u001b[0;32m     <a href='vscode-notebook-cell:/d%3A/Py-Project/strategy-app/try_rsi.ipynb#X24sZmlsZQ%3D%3D?line=10'>11</a>\u001b[0m supers_kwargs \u001b[39m=\u001b[39m supers_kwargs \u001b[39mif\u001b[39;00m supers_kwargs \u001b[39melse\u001b[39;00m {}\n\u001b[1;32m---> <a href='vscode-notebook-cell:/d%3A/Py-Project/strategy-app/try_rsi.ipynb#X24sZmlsZQ%3D%3D?line=12'>13</a>\u001b[0m close \u001b[39m=\u001b[39m \u001b[39mself\u001b[39;49m\u001b[39m.\u001b[39;49mselect_col_from_obj(\u001b[39mself\u001b[39m\u001b[39m.\u001b[39mclose, column)\u001b[39m.\u001b[39mrename(\u001b[39m'\u001b[39m\u001b[39mClose\u001b[39m\u001b[39m'\u001b[39m)\n\u001b[0;32m     <a href='vscode-notebook-cell:/d%3A/Py-Project/strategy-app/try_rsi.ipynb#X24sZmlsZQ%3D%3D?line=13'>14</a>\u001b[0m supers \u001b[39m=\u001b[39m \u001b[39mself\u001b[39m\u001b[39m.\u001b[39mselect_col_from_obj(\u001b[39mself\u001b[39m\u001b[39m.\u001b[39msupers, column)\u001b[39m.\u001b[39mrename(\u001b[39m'\u001b[39m\u001b[39mShort\u001b[39m\u001b[39m'\u001b[39m)\n\u001b[0;32m     <a href='vscode-notebook-cell:/d%3A/Py-Project/strategy-app/try_rsi.ipynb#X24sZmlsZQ%3D%3D?line=14'>15</a>\u001b[0m superl \u001b[39m=\u001b[39m \u001b[39mself\u001b[39m\u001b[39m.\u001b[39mselect_col_from_obj(\u001b[39mself\u001b[39m\u001b[39m.\u001b[39msuperl, column)\u001b[39m.\u001b[39mrename(\u001b[39m'\u001b[39m\u001b[39mLong\u001b[39m\u001b[39m'\u001b[39m)\n",
      "\u001b[1;31mAttributeError\u001b[0m: 'SuperTrend' object has no attribute 'select_col_from_obj'"
     ]
    }
   ],
   "source": [
    "# st = SuperTrend.run(high, low, close)\n",
    "# st.loc[date_range].plot(\n",
    "#     superl_kwargs=dict(trace_kwargs=dict(line_color='limegreen')),\n",
    "#     supers_kwargs=dict(trace_kwargs=dict(line_color='red'))\n",
    "# )"
   ]
  },
  {
   "cell_type": "code",
   "execution_count": 38,
   "metadata": {},
   "outputs": [],
   "source": [
    "entries = (~st.superl.isnull()).vbt.signals.fshift()\n",
    "exits = (~st.supers.isnull()).vbt.signals.fshift()"
   ]
  },
  {
   "cell_type": "code",
   "execution_count": 39,
   "metadata": {},
   "outputs": [],
   "source": [
    "pf = vbt.Portfolio.from_signals(\n",
    "    close=close, \n",
    "    entries=entries, \n",
    "    exits=exits, \n",
    "    fees=0.001, \n",
    "    freq='1d'\n",
    ")"
   ]
  },
  {
   "cell_type": "code",
   "execution_count": 40,
   "metadata": {},
   "outputs": [
    {
     "data": {
      "text/plain": [
       "Start                          2017-01-01 00:00:00+00:00\n",
       "End                            2022-10-07 00:00:00+00:00\n",
       "Period                                2106 days 00:00:00\n",
       "Start Value                                        100.0\n",
       "End Value                                    8211.603588\n",
       "Total Return [%]                             8111.603588\n",
       "Benchmark Return [%]                         1903.922757\n",
       "Max Gross Exposure [%]                             100.0\n",
       "Total Fees Paid                               209.924859\n",
       "Max Drawdown [%]                               42.936338\n",
       "Max Drawdown Duration                  510 days 00:00:00\n",
       "Total Trades                                          26\n",
       "Total Closed Trades                                   26\n",
       "Total Open Trades                                      0\n",
       "Open Trade PnL                                       0.0\n",
       "Win Rate [%]                                   57.692308\n",
       "Best Trade [%]                                189.536594\n",
       "Worst Trade [%]                               -15.615591\n",
       "Avg Winning Trade [%]                          51.567367\n",
       "Avg Losing Trade [%]                           -8.040544\n",
       "Avg Winning Trade Duration              57 days 06:24:00\n",
       "Avg Losing Trade Duration     20 days 13:05:27.272727272\n",
       "Profit Factor                                   2.674025\n",
       "Expectancy                                    311.984753\n",
       "Sharpe Ratio                                    1.730127\n",
       "Calmar Ratio                                    2.671003\n",
       "Omega Ratio                                     1.433924\n",
       "Sortino Ratio                                   2.776673\n",
       "dtype: object"
      ]
     },
     "execution_count": 40,
     "metadata": {},
     "output_type": "execute_result"
    }
   ],
   "source": [
    "pf.stats()"
   ]
  },
  {
   "cell_type": "code",
   "execution_count": 65,
   "metadata": {},
   "outputs": [
    {
     "name": "stdout",
     "output_type": "stream",
     "text": [
      "supertrend_period                    4                               \\\n",
      "supertrend_multiplier               2.0           2.1           2.2   \n",
      "Date                                                                  \n",
      "2017-01-01 00:00:00+00:00           NaN           NaN           NaN   \n",
      "2017-01-02 00:00:00+00:00           NaN           NaN           NaN   \n",
      "2017-01-03 00:00:00+00:00           NaN           NaN           NaN   \n",
      "2017-01-04 00:00:00+00:00           NaN           NaN           NaN   \n",
      "2017-01-05 00:00:00+00:00    824.042969    812.707193    801.371417   \n",
      "...                                 ...           ...           ...   \n",
      "2022-10-03 00:00:00+00:00  20375.472085  20444.341734  20513.211384   \n",
      "2022-10-04 00:00:00+00:00  20375.472085  20444.341734  20513.211384   \n",
      "2022-10-05 00:00:00+00:00  20375.472085  20444.341734  20513.211384   \n",
      "2022-10-06 00:00:00+00:00  20375.472085  20444.341734  20513.211384   \n",
      "2022-10-07 00:00:00+00:00  20375.472085  20444.341734  20513.211384   \n",
      "\n",
      "supertrend_period                                                    \\\n",
      "supertrend_multiplier               2.3           2.4           2.5   \n",
      "Date                                                                  \n",
      "2017-01-01 00:00:00+00:00           NaN           NaN           NaN   \n",
      "2017-01-02 00:00:00+00:00           NaN           NaN           NaN   \n",
      "2017-01-03 00:00:00+00:00           NaN           NaN           NaN   \n",
      "2017-01-04 00:00:00+00:00           NaN           NaN           NaN   \n",
      "2017-01-05 00:00:00+00:00    790.035641    778.699866    767.364090   \n",
      "...                                 ...           ...           ...   \n",
      "2022-10-03 00:00:00+00:00  20582.081033  20650.950682  20719.820331   \n",
      "2022-10-04 00:00:00+00:00  20582.081033  20650.950682  20719.820331   \n",
      "2022-10-05 00:00:00+00:00  20582.081033  20650.950682  20719.820331   \n",
      "2022-10-06 00:00:00+00:00  20582.081033  20650.950682  20719.820331   \n",
      "2022-10-07 00:00:00+00:00  20582.081033  20650.950682  20719.820331   \n",
      "\n",
      "supertrend_period                                                    \\\n",
      "supertrend_multiplier               2.6           2.7           2.8   \n",
      "Date                                                                  \n",
      "2017-01-01 00:00:00+00:00           NaN           NaN           NaN   \n",
      "2017-01-02 00:00:00+00:00           NaN           NaN           NaN   \n",
      "2017-01-03 00:00:00+00:00           NaN           NaN           NaN   \n",
      "2017-01-04 00:00:00+00:00           NaN           NaN           NaN   \n",
      "2017-01-05 00:00:00+00:00    756.028314    744.692538    733.356763   \n",
      "...                                 ...           ...           ...   \n",
      "2022-10-03 00:00:00+00:00  20788.689980  20857.559630  20926.429279   \n",
      "2022-10-04 00:00:00+00:00  20788.689980  20857.559630  20926.429279   \n",
      "2022-10-05 00:00:00+00:00  20788.689980  20857.559630  20926.429279   \n",
      "2022-10-06 00:00:00+00:00  20788.689980  20857.559630  20926.429279   \n",
      "2022-10-07 00:00:00+00:00  20788.689980  20857.559630  20926.429279   \n",
      "\n",
      "supertrend_period                        ...            19               \\\n",
      "supertrend_multiplier               2.9  ...           3.1          3.2   \n",
      "Date                                     ...                              \n",
      "2017-01-01 00:00:00+00:00           NaN  ...           NaN          NaN   \n",
      "2017-01-02 00:00:00+00:00           NaN  ...           NaN          NaN   \n",
      "2017-01-03 00:00:00+00:00           NaN  ...           NaN          NaN   \n",
      "2017-01-04 00:00:00+00:00           NaN  ...           NaN          NaN   \n",
      "2017-01-05 00:00:00+00:00    722.020987  ...           NaN          NaN   \n",
      "...                                 ...  ...           ...          ...   \n",
      "2022-10-03 00:00:00+00:00  20995.298928  ...  21498.280495  21581.59275   \n",
      "2022-10-04 00:00:00+00:00  20995.298928  ...  21498.280495  21581.59275   \n",
      "2022-10-05 00:00:00+00:00  20995.298928  ...  21498.280495  21581.59275   \n",
      "2022-10-06 00:00:00+00:00  20995.298928  ...  21498.280495  21581.59275   \n",
      "2022-10-07 00:00:00+00:00  20995.298928  ...  21498.280495  21581.59275   \n",
      "\n",
      "supertrend_period                                                   \\\n",
      "supertrend_multiplier               3.3          3.4           3.5   \n",
      "Date                                                                 \n",
      "2017-01-01 00:00:00+00:00           NaN          NaN           NaN   \n",
      "2017-01-02 00:00:00+00:00           NaN          NaN           NaN   \n",
      "2017-01-03 00:00:00+00:00           NaN          NaN           NaN   \n",
      "2017-01-04 00:00:00+00:00           NaN          NaN           NaN   \n",
      "2017-01-05 00:00:00+00:00           NaN          NaN           NaN   \n",
      "...                                 ...          ...           ...   \n",
      "2022-10-03 00:00:00+00:00  21664.905005  21748.21726  21831.529515   \n",
      "2022-10-04 00:00:00+00:00  21664.905005  21748.21726  21831.529515   \n",
      "2022-10-05 00:00:00+00:00  21664.905005  21748.21726  21831.529515   \n",
      "2022-10-06 00:00:00+00:00  21664.905005  21748.21726  21831.529515   \n",
      "2022-10-07 00:00:00+00:00  21664.905005  21748.21726  21831.529515   \n",
      "\n",
      "supertrend_period                                                  \\\n",
      "supertrend_multiplier              3.6           3.7          3.8   \n",
      "Date                                                                \n",
      "2017-01-01 00:00:00+00:00          NaN           NaN          NaN   \n",
      "2017-01-02 00:00:00+00:00          NaN           NaN          NaN   \n",
      "2017-01-03 00:00:00+00:00          NaN           NaN          NaN   \n",
      "2017-01-04 00:00:00+00:00          NaN           NaN          NaN   \n",
      "2017-01-05 00:00:00+00:00          NaN           NaN          NaN   \n",
      "...                                ...           ...          ...   \n",
      "2022-10-03 00:00:00+00:00  21914.84177  21998.154025  22081.46628   \n",
      "2022-10-04 00:00:00+00:00  21914.84177  21998.154025  22081.46628   \n",
      "2022-10-05 00:00:00+00:00  21914.84177  21998.154025  22081.46628   \n",
      "2022-10-06 00:00:00+00:00  21914.84177  21998.154025  22081.46628   \n",
      "2022-10-07 00:00:00+00:00  21914.84177  21998.154025  22081.46628   \n",
      "\n",
      "supertrend_period                                      \n",
      "supertrend_multiplier               3.9           4.0  \n",
      "Date                                                   \n",
      "2017-01-01 00:00:00+00:00           NaN           NaN  \n",
      "2017-01-02 00:00:00+00:00           NaN           NaN  \n",
      "2017-01-03 00:00:00+00:00           NaN           NaN  \n",
      "2017-01-04 00:00:00+00:00           NaN           NaN  \n",
      "2017-01-05 00:00:00+00:00           NaN           NaN  \n",
      "...                                 ...           ...  \n",
      "2022-10-03 00:00:00+00:00  22164.778536  22248.090791  \n",
      "2022-10-04 00:00:00+00:00  22164.778536  22248.090791  \n",
      "2022-10-05 00:00:00+00:00  22164.778536  22248.090791  \n",
      "2022-10-06 00:00:00+00:00  22164.778536  22248.090791  \n",
      "2022-10-07 00:00:00+00:00  22164.778536  22248.090791  \n",
      "\n",
      "[2106 rows x 336 columns]\n"
     ]
    }
   ],
   "source": [
    "periods = np.arange(4, 20)\n",
    "multipliers = np.arange(20, 41) / 10\n",
    "\n",
    "st = SuperTrend.run(\n",
    "    high, low, close, \n",
    "    period=periods, \n",
    "    multiplier=multipliers,\n",
    "    param_product=True,\n",
    ")\n",
    "print(st.supert)"
   ]
  },
  {
   "cell_type": "code",
   "execution_count": 66,
   "metadata": {},
   "outputs": [],
   "source": [
    "entries = (~st.superl.isnull()).vbt.signals.fshift()\n",
    "exits = (~st.supers.isnull()).vbt.signals.fshift()\n",
    "pf = vbt.Portfolio.from_signals(\n",
    "    close=close, \n",
    "    entries=entries, \n",
    "    exits=exits, \n",
    "    fees=0.001, \n",
    "    freq='1d'\n",
    ")\n"
   ]
  },
  {
   "cell_type": "code",
   "execution_count": 67,
   "metadata": {},
   "outputs": [
    {
     "data": {
      "image/svg+xml": "<svg class=\"main-svg\" xmlns=\"http://www.w3.org/2000/svg\" xmlns:xlink=\"http://www.w3.org/1999/xlink\" width=\"572\" height=\"489\" style=\"\" viewBox=\"0 0 572 489\"><rect x=\"0\" y=\"0\" width=\"572\" height=\"489\" style=\"fill: rgb(255, 255, 255); fill-opacity: 1;\"/><defs id=\"defs-fe153d\"><g class=\"clips\"><clipPath id=\"clipfe153dxyplot\" class=\"plotclip\"><rect width=\"425\" height=\"406\"/></clipPath><clipPath class=\"axesclip\" id=\"clipfe153dx\"><rect x=\"57\" y=\"0\" width=\"425\" height=\"489\"/></clipPath><clipPath class=\"axesclip\" id=\"clipfe153dy\"><rect x=\"0\" y=\"30\" width=\"572\" height=\"406\"/></clipPath><clipPath class=\"axesclip\" id=\"clipfe153dxy\"><rect x=\"57\" y=\"30\" width=\"425\" height=\"406\"/></clipPath></g><g class=\"gradients\"><linearGradient x1=\"0\" x2=\"0\" y1=\"1\" y2=\"0\" id=\"gfe153d-cb4460a755-295a-41fd-9e92-a80e8a0f57d2\"><stop offset=\"0%\" stop-color=\"rgb(13, 8, 135)\" stop-opacity=\"1\"/><stop offset=\"11.111111%\" stop-color=\"rgb(70, 3, 159)\" stop-opacity=\"1\"/><stop offset=\"22.222222%\" stop-color=\"rgb(114, 1, 168)\" stop-opacity=\"1\"/><stop offset=\"33.333333%\" stop-color=\"rgb(156, 23, 158)\" stop-opacity=\"1\"/><stop offset=\"44.444444%\" stop-color=\"rgb(189, 55, 134)\" stop-opacity=\"1\"/><stop offset=\"55.555556%\" stop-color=\"rgb(216, 87, 107)\" stop-opacity=\"1\"/><stop offset=\"66.666667%\" stop-color=\"rgb(237, 121, 83)\" stop-opacity=\"1\"/><stop offset=\"77.777778%\" stop-color=\"rgb(251, 159, 58)\" stop-opacity=\"1\"/><stop offset=\"88.888889%\" stop-color=\"rgb(253, 202, 38)\" stop-opacity=\"1\"/><stop offset=\"100%\" stop-color=\"rgb(240, 249, 33)\" stop-opacity=\"1\"/></linearGradient></g><g class=\"patterns\"/></defs><g class=\"bglayer\"><rect class=\"bg\" x=\"57\" y=\"30\" width=\"425\" height=\"406\" style=\"fill: rgb(229, 236, 246); fill-opacity: 1; stroke-width: 0;\"/></g><g class=\"layer-below\"><g class=\"imagelayer\"/><g class=\"shapelayer\"/></g><g class=\"cartesianlayer\"><g class=\"subplot xy\"><g class=\"layer-subplot\"><g class=\"shapelayer\"/><g class=\"imagelayer\"/></g><g class=\"minor-gridlayer\"><g class=\"x\"/><g class=\"y\"/></g><g class=\"gridlayer\"><g class=\"x\"><path class=\"xgrid crisp\" transform=\"translate(96.84,0)\" d=\"M0,30v406\" style=\"stroke: rgb(255, 255, 255); stroke-opacity: 1; stroke-width: 1px;\"/><path class=\"xgrid crisp\" transform=\"translate(229.66,0)\" d=\"M0,30v406\" style=\"stroke: rgb(255, 255, 255); stroke-opacity: 1; stroke-width: 1px;\"/><path class=\"xgrid crisp\" transform=\"translate(362.47,0)\" d=\"M0,30v406\" style=\"stroke: rgb(255, 255, 255); stroke-opacity: 1; stroke-width: 1px;\"/></g><g class=\"y\"><path class=\"ygrid crisp\" transform=\"translate(0,426.33)\" d=\"M57,0h425\" style=\"stroke: rgb(255, 255, 255); stroke-opacity: 1; stroke-width: 1px;\"/><path class=\"ygrid crisp\" transform=\"translate(0,329.67)\" d=\"M57,0h425\" style=\"stroke: rgb(255, 255, 255); stroke-opacity: 1; stroke-width: 1px;\"/><path class=\"ygrid crisp\" transform=\"translate(0,233)\" d=\"M57,0h425\" style=\"stroke: rgb(255, 255, 255); stroke-opacity: 1; stroke-width: 1px;\"/><path class=\"ygrid crisp\" transform=\"translate(0,136.32999999999998)\" d=\"M57,0h425\" style=\"stroke: rgb(255, 255, 255); stroke-opacity: 1; stroke-width: 1px;\"/><path class=\"ygrid crisp\" transform=\"translate(0,39.67)\" d=\"M57,0h425\" style=\"stroke: rgb(255, 255, 255); stroke-opacity: 1; stroke-width: 1px;\"/></g></g><g class=\"zerolinelayer\"/><path class=\"xlines-below\"/><path class=\"ylines-below\"/><g class=\"overlines-below\"/><g class=\"xaxislayer-below\"/><g class=\"yaxislayer-below\"/><g class=\"overaxes-below\"/><g class=\"plot\" transform=\"translate(57,30)\" clip-path=\"url(#clipfe153dxyplot)\"><g class=\"heatmaplayer mlayer\"><g class=\"hm\"><image xmlns=\"http://www.w3.org/2000/svg\" preserveAspectRatio=\"none\" height=\"406\" width=\"425\" x=\"0\" y=\"0\" xlink:href=\"data:image/png;base64,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\" style=\"opacity: 1;\"/></g></g></g><g class=\"overplot\"/><path class=\"xlines-above crisp\" d=\"M0,0\" style=\"fill: none;\"/><path class=\"ylines-above crisp\" d=\"M0,0\" style=\"fill: none;\"/><g class=\"overlines-above\"/><g class=\"xaxislayer-above\"><g class=\"xtick\"><text text-anchor=\"middle\" x=\"0\" y=\"449\" transform=\"translate(96.84,0)\" style=\"font-family: 'Open Sans', verdana, arial, sans-serif; font-size: 12px; fill: rgb(42, 63, 95); fill-opacity: 1; white-space: pre; opacity: 1;\">5</text></g><g class=\"xtick\"><text text-anchor=\"middle\" x=\"0\" y=\"449\" style=\"font-family: 'Open Sans', verdana, arial, sans-serif; font-size: 12px; fill: rgb(42, 63, 95); fill-opacity: 1; white-space: pre; opacity: 1;\" transform=\"translate(229.66,0)\">10</text></g><g class=\"xtick\"><text text-anchor=\"middle\" x=\"0\" y=\"449\" style=\"font-family: 'Open Sans', verdana, arial, sans-serif; font-size: 12px; fill: rgb(42, 63, 95); fill-opacity: 1; white-space: pre; opacity: 1;\" transform=\"translate(362.47,0)\">15</text></g></g><g class=\"yaxislayer-above\"><g class=\"ytick\"><text text-anchor=\"end\" x=\"56\" y=\"4.199999999999999\" transform=\"translate(0,426.33)\" style=\"font-family: 'Open Sans', verdana, arial, sans-serif; font-size: 12px; fill: rgb(42, 63, 95); fill-opacity: 1; white-space: pre; opacity: 1;\">2</text></g><g class=\"ytick\"><text text-anchor=\"end\" x=\"56\" y=\"4.199999999999999\" style=\"font-family: 'Open Sans', verdana, arial, sans-serif; font-size: 12px; fill: rgb(42, 63, 95); fill-opacity: 1; white-space: pre; opacity: 1;\" transform=\"translate(0,329.67)\">2.5</text></g><g class=\"ytick\"><text text-anchor=\"end\" x=\"56\" y=\"4.199999999999999\" style=\"font-family: 'Open Sans', verdana, arial, sans-serif; font-size: 12px; fill: rgb(42, 63, 95); fill-opacity: 1; white-space: pre; opacity: 1;\" transform=\"translate(0,233)\">3</text></g><g class=\"ytick\"><text text-anchor=\"end\" x=\"56\" y=\"4.199999999999999\" style=\"font-family: 'Open Sans', verdana, arial, sans-serif; font-size: 12px; fill: rgb(42, 63, 95); fill-opacity: 1; white-space: pre; opacity: 1;\" transform=\"translate(0,136.32999999999998)\">3.5</text></g><g class=\"ytick\"><text text-anchor=\"end\" x=\"56\" y=\"4.199999999999999\" style=\"font-family: 'Open Sans', verdana, arial, sans-serif; font-size: 12px; fill: rgb(42, 63, 95); fill-opacity: 1; white-space: pre; opacity: 1;\" transform=\"translate(0,39.67)\">4</text></g></g><g class=\"overaxes-above\"/></g></g><g class=\"polarlayer\"/><g class=\"smithlayer\"/><g class=\"ternarylayer\"/><g class=\"geolayer\"/><g class=\"funnelarealayer\"/><g class=\"pielayer\"/><g class=\"iciclelayer\"/><g class=\"treemaplayer\"/><g class=\"sunburstlayer\"/><g class=\"glimages\"/><defs id=\"topdefs-fe153d\"><g class=\"clips\"/></defs><g class=\"layer-above\"><g class=\"imagelayer\"/><g class=\"shapelayer\"/></g><g class=\"infolayer\"><g class=\"cb4460a755-295a-41fd-9e92-a80e8a0f57d2 colorbar\" transform=\"translate(57,30)\"><rect class=\"cbbg\" x=\"434\" y=\"0\" width=\"70.015625\" height=\"406\" style=\"fill: rgb(0, 0, 0); fill-opacity: 0; stroke: rgb(68, 68, 68); stroke-opacity: 1; stroke-width: 0;\"/><g class=\"cbfills\" transform=\"translate(0,10)\"><rect class=\"cbfill gradient_filled\" x=\"444\" y=\"0\" width=\"30\" height=\"386\" style=\"fill: url('#gfe153d-cb4460a755-295a-41fd-9e92-a80e8a0f57d2');\"/></g><g class=\"cblines\" transform=\"translate(0,10)\"/><g class=\"cbaxis crisp\" transform=\"translate(0,-30)\"><g class=\"ycb4460a755-295a-41fd-9e92-a80e8a0f57d2tick\"><text text-anchor=\"start\" x=\"476.9\" y=\"4.199999999999999\" transform=\"translate(0,421.7)\" style=\"font-family: 'Open Sans', verdana, arial, sans-serif; font-size: 12px; fill: rgb(42, 63, 95); fill-opacity: 1; white-space: pre; opacity: 1;\">1.1</text></g><g class=\"ycb4460a755-295a-41fd-9e92-a80e8a0f57d2tick\"><text text-anchor=\"start\" x=\"476.9\" y=\"4.199999999999999\" style=\"font-family: 'Open Sans', verdana, arial, sans-serif; font-size: 12px; fill: rgb(42, 63, 95); fill-opacity: 1; white-space: pre; opacity: 1;\" transform=\"translate(0,369.63)\">1.2</text></g><g class=\"ycb4460a755-295a-41fd-9e92-a80e8a0f57d2tick\"><text text-anchor=\"start\" x=\"476.9\" y=\"4.199999999999999\" style=\"font-family: 'Open Sans', verdana, arial, sans-serif; font-size: 12px; fill: rgb(42, 63, 95); fill-opacity: 1; white-space: pre; opacity: 1;\" transform=\"translate(0,317.57)\">1.3</text></g><g class=\"ycb4460a755-295a-41fd-9e92-a80e8a0f57d2tick\"><text text-anchor=\"start\" x=\"476.9\" y=\"4.199999999999999\" style=\"font-family: 'Open Sans', verdana, arial, sans-serif; font-size: 12px; fill: rgb(42, 63, 95); fill-opacity: 1; white-space: pre; opacity: 1;\" transform=\"translate(0,265.5)\">1.4</text></g><g class=\"ycb4460a755-295a-41fd-9e92-a80e8a0f57d2tick\"><text text-anchor=\"start\" x=\"476.9\" y=\"4.199999999999999\" style=\"font-family: 'Open Sans', verdana, arial, sans-serif; font-size: 12px; fill: rgb(42, 63, 95); fill-opacity: 1; white-space: pre; opacity: 1;\" transform=\"translate(0,213.44)\">1.5</text></g><g class=\"ycb4460a755-295a-41fd-9e92-a80e8a0f57d2tick\"><text text-anchor=\"start\" x=\"476.9\" y=\"4.199999999999999\" style=\"font-family: 'Open Sans', verdana, arial, sans-serif; font-size: 12px; fill: rgb(42, 63, 95); fill-opacity: 1; white-space: pre; opacity: 1;\" transform=\"translate(0,161.38)\">1.6</text></g><g class=\"ycb4460a755-295a-41fd-9e92-a80e8a0f57d2tick\"><text text-anchor=\"start\" x=\"476.9\" y=\"4.199999999999999\" style=\"font-family: 'Open Sans', verdana, arial, sans-serif; font-size: 12px; fill: rgb(42, 63, 95); fill-opacity: 1; white-space: pre; opacity: 1;\" transform=\"translate(0,109.30999999999999)\">1.7</text></g><g class=\"ycb4460a755-295a-41fd-9e92-a80e8a0f57d2tick\"><text text-anchor=\"start\" x=\"476.9\" y=\"4.199999999999999\" style=\"font-family: 'Open Sans', verdana, arial, sans-serif; font-size: 12px; fill: rgb(42, 63, 95); fill-opacity: 1; white-space: pre; opacity: 1;\" transform=\"translate(0,57.249999999999986)\">1.8</text></g></g><g class=\"cbtitleunshift\" transform=\"translate(-57,-30)\"><g class=\"cbtitle\"/></g><rect class=\"cboutline\" x=\"444\" y=\"10\" width=\"30\" height=\"386\" style=\"stroke: rgb(68, 68, 68); stroke-opacity: 1; fill: none; stroke-width: 0;\"/></g><g class=\"g-gtitle\"/><g class=\"g-xtitle\"><text class=\"xtitle\" x=\"269.5\" y=\"476.8\" text-anchor=\"middle\" style=\"font-family: 'Open Sans', verdana, arial, sans-serif; font-size: 14px; fill: rgb(42, 63, 95); opacity: 1; font-weight: normal; white-space: pre;\">supertrend_period</text></g><g class=\"g-ytitle\" transform=\"translate(2.4248046875,0)\"><text class=\"ytitle\" transform=\"rotate(-90,11.575000000000003,233)\" x=\"11.575000000000003\" y=\"233\" text-anchor=\"middle\" style=\"font-family: 'Open Sans', verdana, arial, sans-serif; font-size: 14px; fill: rgb(42, 63, 95); opacity: 1; font-weight: normal; white-space: pre;\">supertrend_multiplier</text></g></g></svg>"
     },
     "metadata": {},
     "output_type": "display_data"
    }
   ],
   "source": [
    "pf.sharpe_ratio().vbt.heatmap(\n",
    "    x_level='supertrend_period', \n",
    "    y_level='supertrend_multiplier',\n",
    ").show_svg()"
   ]
  },
  {
   "cell_type": "code",
   "execution_count": 68,
   "metadata": {},
   "outputs": [
    {
     "data": {
      "text/plain": [
       "Start                          2017-01-01 00:00:00+00:00\n",
       "End                            2022-10-07 00:00:00+00:00\n",
       "Period                                2106 days 00:00:00\n",
       "Start Value                                        100.0\n",
       "End Value                                    9763.159428\n",
       "Total Return [%]                             9663.159428\n",
       "Benchmark Return [%]                         1903.922757\n",
       "Max Gross Exposure [%]                             100.0\n",
       "Total Fees Paid                               408.138555\n",
       "Max Drawdown [%]                               49.332111\n",
       "Max Drawdown Duration                  510 days 00:00:00\n",
       "Total Trades                                          35\n",
       "Total Closed Trades                                   35\n",
       "Total Open Trades                                      0\n",
       "Open Trade PnL                                       0.0\n",
       "Win Rate [%]                                   54.285714\n",
       "Best Trade [%]                                 98.161165\n",
       "Worst Trade [%]                               -14.372825\n",
       "Avg Winning Trade [%]                          40.713918\n",
       "Avg Losing Trade [%]                           -8.640274\n",
       "Avg Winning Trade Duration    38 days 18:56:50.526315789\n",
       "Avg Losing Trade Duration               14 days 06:00:00\n",
       "Profit Factor                                   1.761523\n",
       "Expectancy                                    276.090269\n",
       "Sharpe Ratio                                    1.833127\n",
       "Calmar Ratio                                    2.457225\n",
       "Omega Ratio                                     1.502002\n",
       "Sortino Ratio                                   3.031865\n",
       "Name: (13, 2.4), dtype: object"
      ]
     },
     "execution_count": 68,
     "metadata": {},
     "output_type": "execute_result"
    }
   ],
   "source": [
    "idxmax = (pf.sharpe_ratio().idxmax())\n",
    "pf[idxmax].stats()"
   ]
  },
  {
   "cell_type": "code",
   "execution_count": 59,
   "metadata": {},
   "outputs": [
    {
     "data": {
      "text/plain": [
       "(13, 2.4)"
      ]
     },
     "execution_count": 59,
     "metadata": {},
     "output_type": "execute_result"
    }
   ],
   "source": [
    "idxmax"
   ]
  }
 ],
 "metadata": {
  "kernelspec": {
   "display_name": "Python 3.10.7 64-bit (microsoft store)",
   "language": "python",
   "name": "python3"
  },
  "language_info": {
   "codemirror_mode": {
    "name": "ipython",
    "version": 3
   },
   "file_extension": ".py",
   "mimetype": "text/x-python",
   "name": "python",
   "nbconvert_exporter": "python",
   "pygments_lexer": "ipython3",
   "version": "3.10.8"
  },
  "orig_nbformat": 4,
  "vscode": {
   "interpreter": {
    "hash": "ed0e3b5f0fec94de6625d57c59183dd9b7f56ab2c93113c97d611f39bfef112b"
   }
  }
 },
 "nbformat": 4,
 "nbformat_minor": 2
}
