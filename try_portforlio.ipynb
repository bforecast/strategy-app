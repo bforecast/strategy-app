{
 "cells": [
  {
   "cell_type": "code",
   "execution_count": 1,
   "metadata": {},
   "outputs": [],
   "source": [
    "import vectorbt as vbt"
   ]
  },
  {
   "cell_type": "code",
   "execution_count": 6,
   "metadata": {},
   "outputs": [
    {
     "data": {
      "text/plain": [
       "Start                        2018-01-02 00:00:00+00:00\n",
       "End                          2022-10-14 00:00:00+00:00\n",
       "Period                              1206 days 00:00:00\n",
       "Total Return [%]                            302.871276\n",
       "Benchmark Return [%]                         252.56051\n",
       "Annualized Return [%]                        52.459903\n",
       "Annualized Volatility [%]                    23.548951\n",
       "Max Drawdown [%]                             21.099759\n",
       "Max Drawdown Duration                318 days 00:00:00\n",
       "Sharpe Ratio                                    1.9091\n",
       "Calmar Ratio                                   2.48628\n",
       "Omega Ratio                                   1.457522\n",
       "Sortino Ratio                                 3.052271\n",
       "Skew                                          0.430076\n",
       "Kurtosis                                      9.594887\n",
       "Tail Ratio                                    1.379351\n",
       "Common Sense Ratio                            2.102957\n",
       "Value at Risk                                 -0.01724\n",
       "Alpha                                         0.346434\n",
       "Beta                                          0.325804\n",
       "dtype: object"
      ]
     },
     "execution_count": 6,
     "metadata": {},
     "output_type": "execute_result"
    }
   ],
   "source": [
    "pf = vbt.Portfolio.load(\"portfolio/1665827341.302769.pf\")\n",
    "pf.returns_stats()\n"
   ]
  },
  {
   "cell_type": "code",
   "execution_count": 19,
   "metadata": {},
   "outputs": [
    {
     "data": {
      "text/plain": [
       "date\n",
       "2018-03-02 00:00:00+00:00    0.007483\n",
       "2018-03-05 00:00:00+00:00    0.003961\n",
       "2018-03-08 00:00:00+00:00    0.011970\n",
       "2018-03-09 00:00:00+00:00    0.018728\n",
       "2018-03-12 00:00:00+00:00    0.010402\n",
       "                               ...   \n",
       "2022-08-12 00:00:00+00:00    0.021426\n",
       "2022-08-15 00:00:00+00:00    0.006334\n",
       "2022-08-17 00:00:00+00:00    0.008785\n",
       "2022-08-24 00:00:00+00:00    0.001794\n",
       "2022-08-25 00:00:00+00:00    0.014923\n",
       "Length: 348, dtype: float64"
      ]
     },
     "execution_count": 19,
     "metadata": {},
     "output_type": "execute_result"
    }
   ],
   "source": [
    "dr_ss = pf.daily_returns()\n",
    "dr_ss[dr_ss > 0]"
   ]
  },
  {
   "cell_type": "code",
   "execution_count": 33,
   "metadata": {},
   "outputs": [
    {
     "data": {
      "text/plain": [
       "date\n",
       "2018-01-02 00:00:00+00:00    100.000000\n",
       "2018-01-03 00:00:00+00:00    100.000000\n",
       "2018-01-04 00:00:00+00:00    100.000000\n",
       "2018-01-05 00:00:00+00:00    100.000000\n",
       "2018-01-08 00:00:00+00:00    100.000000\n",
       "                                ...    \n",
       "2022-10-10 00:00:00+00:00    402.871276\n",
       "2022-10-11 00:00:00+00:00    402.871276\n",
       "2022-10-12 00:00:00+00:00    402.871276\n",
       "2022-10-13 00:00:00+00:00    402.871276\n",
       "2022-10-14 00:00:00+00:00    402.871276\n",
       "Length: 568, dtype: float64"
      ]
     },
     "execution_count": 33,
     "metadata": {},
     "output_type": "execute_result"
    }
   ],
   "source": [
    "ss = pf.cash()\n",
    "ss[ss != 0]"
   ]
  },
  {
   "cell_type": "code",
   "execution_count": 34,
   "metadata": {},
   "outputs": [
    {
     "data": {
      "image/svg+xml": "<svg class=\"main-svg\" xmlns=\"http://www.w3.org/2000/svg\" xmlns:xlink=\"http://www.w3.org/1999/xlink\" width=\"700\" height=\"350\" style=\"\" viewBox=\"0 0 700 350\"><rect x=\"0\" y=\"0\" width=\"700\" height=\"350\" style=\"fill: rgb(255, 255, 255); fill-opacity: 1;\"/><defs id=\"defs-4332e6\"><g class=\"clips\"><clipPath id=\"clip4332e6xyplot\" class=\"plotclip\"><rect width=\"628\" height=\"290\"/></clipPath><clipPath class=\"axesclip\" id=\"clip4332e6x\"><rect x=\"42\" y=\"0\" width=\"628\" height=\"350\"/></clipPath><clipPath class=\"axesclip\" id=\"clip4332e6y\"><rect x=\"0\" y=\"30\" width=\"700\" height=\"290\"/></clipPath><clipPath class=\"axesclip\" id=\"clip4332e6xy\"><rect x=\"42\" y=\"30\" width=\"628\" height=\"290\"/></clipPath></g><g class=\"gradients\"/><g class=\"patterns\"/></defs><g class=\"bglayer\"><rect class=\"bg\" x=\"42\" y=\"30\" width=\"628\" height=\"290\" style=\"fill: rgb(229, 236, 246); fill-opacity: 1; stroke-width: 0;\"/></g><g class=\"layer-below\"><g class=\"imagelayer\"/><g class=\"shapelayer\"/></g><g class=\"cartesianlayer\"><g class=\"subplot xy\"><g class=\"layer-subplot\"><g class=\"shapelayer\"/><g class=\"imagelayer\"/></g><g class=\"minor-gridlayer\"><g class=\"x\"/><g class=\"y\"/></g><g class=\"gridlayer\"><g class=\"x\"><path class=\"xgrid crisp\" transform=\"translate(172.92,0)\" d=\"M0,30v290\" style=\"stroke: rgb(255, 255, 255); stroke-opacity: 1; stroke-width: 1px;\"/><path class=\"xgrid crisp\" transform=\"translate(304.21,0)\" d=\"M0,30v290\" style=\"stroke: rgb(255, 255, 255); stroke-opacity: 1; stroke-width: 1px;\"/><path class=\"xgrid crisp\" transform=\"translate(435.85,0)\" d=\"M0,30v290\" style=\"stroke: rgb(255, 255, 255); stroke-opacity: 1; stroke-width: 1px;\"/><path class=\"xgrid crisp\" transform=\"translate(567.13,0)\" d=\"M0,30v290\" style=\"stroke: rgb(255, 255, 255); stroke-opacity: 1; stroke-width: 1px;\"/></g><g class=\"y\"><path class=\"ygrid crisp\" transform=\"translate(0,305.5)\" d=\"M42,0h628\" style=\"stroke: rgb(255, 255, 255); stroke-opacity: 1; stroke-width: 1px;\"/><path class=\"ygrid crisp\" transform=\"translate(0,44.5)\" d=\"M42,0h628\" style=\"stroke: rgb(255, 255, 255); stroke-opacity: 1; stroke-width: 1px;\"/></g></g><g class=\"zerolinelayer\"/><path class=\"xlines-below\"/><path class=\"ylines-below\"/><g class=\"overlines-below\"/><g class=\"xaxislayer-below\"/><g class=\"yaxislayer-below\"/><g class=\"overaxes-below\"/><g class=\"plot\" transform=\"translate(42,30)\" clip-path=\"url(#clip4332e6xyplot)\"><g class=\"scatterlayer mlayer\"><g class=\"trace scatter trace519d0147-83cc-4b00-bb08-df9c40cebfb2\" style=\"stroke-miterlimit: 2; opacity: 1;\"><g class=\"fills\"/><g class=\"errorbars\"/><g class=\"lines\"><path class=\"js-line\" d=\"M0,275.5L19.78,275.5L20.14,14.5L28.05,14.5L28.41,275.5L43.88,275.5L44.96,14.5L60.43,14.5L60.79,275.5L73.01,275.5L73.37,14.5L92.8,14.5L93.16,275.5L139.2,275.5L139.56,14.5L141.35,275.5L141.71,14.5L153.94,14.5L154.3,275.5L155.74,275.5L156.1,14.5L176.96,14.5L177.32,275.5L188.83,275.5L189.19,14.5L207.53,14.5L208.61,275.5L219.04,275.5L219.4,14.5L279.47,14.5L279.83,275.5L297.81,275.5L299.25,14.5L299.61,275.5L299.97,14.5L300.33,14.5L352.49,14.5L352.85,275.5L353.21,14.5L353.56,275.5L354.64,275.5L363.64,275.5L364.71,14.5L369.75,14.5L370.11,275.5L380.54,275.5L381.26,14.5L398.52,14.5L398.88,275.5L400.68,275.5L401.04,14.5L403.92,14.5L405,275.5L405.36,275.5L405.72,14.5L411.11,14.5L411.47,275.5L428.02,275.5L428.38,14.5L438.45,14.5L438.81,275.5L453.56,275.5L453.92,14.5L471.9,14.5L472.98,275.5L475.5,275.5L475.86,14.5L476.22,14.5L476.58,275.5L480.53,275.5L480.89,14.5L484.49,14.5L485.57,275.5L501.03,275.5L501.39,14.5L526.93,14.5L527.29,275.5L554.27,275.5L554.63,14.5L563.62,14.5L563.98,275.5L594.19,275.5L594.55,14.5L610.38,14.5L611.45,275.5L628,275.5\" style=\"vector-effect: non-scaling-stroke; fill: none; stroke: rgb(31, 119, 180); stroke-opacity: 1; stroke-width: 2px; opacity: 1;\"/></g><g class=\"points\"/><g class=\"text\"/></g></g></g><g class=\"overplot\"/><path class=\"xlines-above crisp\" d=\"M0,0\" style=\"fill: none;\"/><path class=\"ylines-above crisp\" d=\"M0,0\" style=\"fill: none;\"/><g class=\"overlines-above\"/><g class=\"xaxislayer-above\"><g class=\"xtick\"><text text-anchor=\"middle\" x=\"0\" y=\"333\" transform=\"translate(172.92,0)\" style=\"font-family: 'Open Sans', verdana, arial, sans-serif; font-size: 12px; fill: rgb(42, 63, 95); fill-opacity: 1; white-space: pre; opacity: 1;\">2019</text></g><g class=\"xtick\"><text text-anchor=\"middle\" x=\"0\" y=\"333\" style=\"font-family: 'Open Sans', verdana, arial, sans-serif; font-size: 12px; fill: rgb(42, 63, 95); fill-opacity: 1; white-space: pre; opacity: 1;\" transform=\"translate(304.21,0)\">2020</text></g><g class=\"xtick\"><text text-anchor=\"middle\" x=\"0\" y=\"333\" style=\"font-family: 'Open Sans', verdana, arial, sans-serif; font-size: 12px; fill: rgb(42, 63, 95); fill-opacity: 1; white-space: pre; opacity: 1;\" transform=\"translate(435.85,0)\">2021</text></g><g class=\"xtick\"><text text-anchor=\"middle\" x=\"0\" y=\"333\" style=\"font-family: 'Open Sans', verdana, arial, sans-serif; font-size: 12px; fill: rgb(42, 63, 95); fill-opacity: 1; white-space: pre; opacity: 1;\" transform=\"translate(567.13,0)\">2022</text></g></g><g class=\"yaxislayer-above\"><g class=\"ytick\"><text text-anchor=\"end\" x=\"41\" y=\"4.199999999999999\" transform=\"translate(0,305.5)\" style=\"font-family: 'Open Sans', verdana, arial, sans-serif; font-size: 12px; fill: rgb(42, 63, 95); fill-opacity: 1; white-space: pre; opacity: 1;\">false</text></g><g class=\"ytick\"><text text-anchor=\"end\" x=\"41\" y=\"4.199999999999999\" transform=\"translate(0,44.5)\" style=\"font-family: 'Open Sans', verdana, arial, sans-serif; font-size: 12px; fill: rgb(42, 63, 95); fill-opacity: 1; white-space: pre; opacity: 1;\">true</text></g></g><g class=\"overaxes-above\"/></g></g><g class=\"polarlayer\"/><g class=\"smithlayer\"/><g class=\"ternarylayer\"/><g class=\"geolayer\"/><g class=\"funnelarealayer\"/><g class=\"pielayer\"/><g class=\"iciclelayer\"/><g class=\"treemaplayer\"/><g class=\"sunburstlayer\"/><g class=\"glimages\"/><defs id=\"topdefs-4332e6\"><g class=\"clips\"/></defs><g class=\"layer-above\"><g class=\"imagelayer\"/><g class=\"shapelayer\"/></g><g class=\"infolayer\"><g class=\"g-gtitle\"/><g class=\"g-xtitle\"/><g class=\"g-ytitle\"/></g></svg>"
     },
     "metadata": {},
     "output_type": "display_data"
    }
   ],
   "source": [
    "holdings = ss ==0\n",
    "holdings.vbt.plot().show_svg()"
   ]
  },
  {
   "cell_type": "code",
   "execution_count": 25,
   "metadata": {},
   "outputs": [
    {
     "data": {
      "text/plain": [
       "date\n",
       "2018-02-27 00:00:00+00:00   -100.000000\n",
       "2018-03-22 00:00:00+00:00     93.786292\n",
       "2018-05-07 00:00:00+00:00    -93.786292\n",
       "2018-06-20 00:00:00+00:00     94.551332\n",
       "2018-07-25 00:00:00+00:00    -94.551332\n",
       "2018-09-18 00:00:00+00:00    106.749832\n",
       "2019-01-25 00:00:00+00:00   -106.749832\n",
       "2019-01-28 00:00:00+00:00    105.240840\n",
       "2019-01-31 00:00:00+00:00   -105.240840\n",
       "2019-03-07 00:00:00+00:00    109.449164\n",
       "2019-03-12 00:00:00+00:00   -109.449164\n",
       "2019-05-10 00:00:00+00:00    119.990779\n",
       "2019-06-12 00:00:00+00:00   -119.990779\n",
       "2019-08-05 00:00:00+00:00    118.963914\n",
       "2019-09-04 00:00:00+00:00   -118.963914\n",
       "2020-02-19 00:00:00+00:00    187.557977\n",
       "2020-04-13 00:00:00+00:00   -187.557977\n",
       "2020-04-14 00:00:00+00:00    196.552129\n",
       "2020-04-15 00:00:00+00:00   -196.552129\n",
       "2020-09-09 00:00:00+00:00    328.134137\n",
       "2020-09-10 00:00:00+00:00   -328.134137\n",
       "2020-09-11 00:00:00+00:00    322.466174\n",
       "2020-10-12 00:00:00+00:00   -322.466174\n",
       "2020-10-27 00:00:00+00:00    300.753321\n",
       "2020-11-27 00:00:00+00:00   -300.753321\n",
       "2021-01-15 00:00:00+00:00    327.021471\n",
       "2021-01-21 00:00:00+00:00   -327.021471\n",
       "2021-02-01 00:00:00+00:00    319.145356\n",
       "2021-02-03 00:00:00+00:00   -319.145356\n",
       "2021-02-19 00:00:00+00:00    308.580069\n",
       "2021-04-07 00:00:00+00:00   -308.580069\n",
       "2021-05-06 00:00:00+00:00    311.816613\n",
       "2021-06-17 00:00:00+00:00   -311.816613\n",
       "2021-08-09 00:00:00+00:00    345.082458\n",
       "2021-08-17 00:00:00+00:00   -345.082458\n",
       "2021-08-19 00:00:00+00:00    335.669985\n",
       "2021-08-31 00:00:00+00:00   -335.669985\n",
       "2021-09-13 00:00:00+00:00    329.279482\n",
       "2021-10-27 00:00:00+00:00   -329.279482\n",
       "2022-01-07 00:00:00+00:00    380.146784\n",
       "2022-03-24 00:00:00+00:00   -380.146784\n",
       "2022-04-19 00:00:00+00:00    364.082507\n",
       "2022-07-13 00:00:00+00:00   -364.082507\n",
       "2022-08-29 00:00:00+00:00    402.871276\n",
       "dtype: float64"
      ]
     },
     "execution_count": 25,
     "metadata": {},
     "output_type": "execute_result"
    }
   ],
   "source": [
    "ss = pf.cash_flow()\n",
    "ss[ss != 0]"
   ]
  },
  {
   "cell_type": "code",
   "execution_count": 27,
   "metadata": {},
   "outputs": [
    {
     "data": {
      "text/plain": [
       "date\n",
       "2018-02-27 00:00:00+00:00     99.800399\n",
       "2018-02-28 00:00:00+00:00     99.629759\n",
       "2018-03-01 00:00:00+00:00     97.728334\n",
       "2018-03-02 00:00:00+00:00     98.459651\n",
       "2018-03-05 00:00:00+00:00     98.849687\n",
       "                                ...    \n",
       "2022-08-22 00:00:00+00:00    419.162402\n",
       "2022-08-23 00:00:00+00:00    418.311921\n",
       "2022-08-24 00:00:00+00:00    419.062346\n",
       "2022-08-25 00:00:00+00:00    425.315888\n",
       "2022-08-26 00:00:00+00:00    409.281806\n",
       "Length: 638, dtype: float64"
      ]
     },
     "execution_count": 27,
     "metadata": {},
     "output_type": "execute_result"
    }
   ],
   "source": [
    "ss = pf.asset_value()\n",
    "ss[ss != 0]"
   ]
  },
  {
   "cell_type": "code",
   "execution_count": 53,
   "metadata": {},
   "outputs": [
    {
     "data": {
      "image/svg+xml": "<svg class=\"main-svg\" xmlns=\"http://www.w3.org/2000/svg\" xmlns:xlink=\"http://www.w3.org/1999/xlink\" width=\"700\" height=\"350\" style=\"\" viewBox=\"0 0 700 350\"><rect x=\"0\" y=\"0\" width=\"700\" height=\"350\" style=\"fill: rgb(255, 255, 255); fill-opacity: 1;\"/><defs id=\"defs-98e854\"><g class=\"clips\"><clipPath id=\"clip98e854xyplot\" class=\"plotclip\"><rect width=\"628\" height=\"290\"/></clipPath><clipPath class=\"axesclip\" id=\"clip98e854x\"><rect x=\"42\" y=\"0\" width=\"628\" height=\"350\"/></clipPath><clipPath class=\"axesclip\" id=\"clip98e854y\"><rect x=\"0\" y=\"30\" width=\"700\" height=\"290\"/></clipPath><clipPath class=\"axesclip\" id=\"clip98e854xy\"><rect x=\"42\" y=\"30\" width=\"628\" height=\"290\"/></clipPath></g><g class=\"gradients\"/><g class=\"patterns\"/></defs><g class=\"bglayer\"><rect class=\"bg\" x=\"42\" y=\"30\" width=\"628\" height=\"290\" style=\"fill: rgb(229, 236, 246); fill-opacity: 1; stroke-width: 0;\"/></g><g class=\"layer-below\"><g class=\"imagelayer\"/><g class=\"shapelayer\"/></g><g class=\"cartesianlayer\"><g class=\"subplot xy\"><g class=\"layer-subplot\"><g class=\"shapelayer\"/><g class=\"imagelayer\"/></g><g class=\"minor-gridlayer\"><g class=\"x\"/><g class=\"y\"/></g><g class=\"gridlayer\"><g class=\"x\"><path class=\"xgrid crisp\" transform=\"translate(172.92,0)\" d=\"M0,30v290\" style=\"stroke: rgb(255, 255, 255); stroke-opacity: 1; stroke-width: 1px;\"/><path class=\"xgrid crisp\" transform=\"translate(304.21,0)\" d=\"M0,30v290\" style=\"stroke: rgb(255, 255, 255); stroke-opacity: 1; stroke-width: 1px;\"/><path class=\"xgrid crisp\" transform=\"translate(435.85,0)\" d=\"M0,30v290\" style=\"stroke: rgb(255, 255, 255); stroke-opacity: 1; stroke-width: 1px;\"/><path class=\"xgrid crisp\" transform=\"translate(567.13,0)\" d=\"M0,30v290\" style=\"stroke: rgb(255, 255, 255); stroke-opacity: 1; stroke-width: 1px;\"/></g><g class=\"y\"><path class=\"ygrid crisp\" transform=\"translate(0,305.5)\" d=\"M42,0h628\" style=\"stroke: rgb(255, 255, 255); stroke-opacity: 1; stroke-width: 1px;\"/><path class=\"ygrid crisp\" transform=\"translate(0,44.5)\" d=\"M42,0h628\" style=\"stroke: rgb(255, 255, 255); stroke-opacity: 1; stroke-width: 1px;\"/></g></g><g class=\"zerolinelayer\"/><path class=\"xlines-below\"/><path class=\"ylines-below\"/><g class=\"overlines-below\"/><g class=\"xaxislayer-below\"/><g class=\"yaxislayer-below\"/><g class=\"overaxes-below\"/><g class=\"plot\" transform=\"translate(42,30)\" clip-path=\"url(#clip98e854xyplot)\"><g class=\"scatterlayer mlayer\"><g class=\"trace scatter trace39467992-692f-4b2c-ab1e-d1c2718b8b61\" style=\"stroke-miterlimit: 2; opacity: 1;\"><g class=\"fills\"/><g class=\"errorbars\"/><g class=\"lines\"><path class=\"js-line\" d=\"M0,275.5L19.78,275.5L20.14,14.5L28.05,14.5L28.41,275.5L43.88,275.5L44.96,14.5L60.43,14.5L60.79,275.5L73.01,275.5L73.37,14.5L92.8,14.5L93.16,275.5L139.2,275.5L139.56,14.5L141.35,275.5L141.71,14.5L153.94,14.5L154.3,275.5L155.74,275.5L156.1,14.5L176.96,14.5L177.32,275.5L188.83,275.5L189.19,14.5L207.53,14.5L208.61,275.5L219.04,275.5L219.4,14.5L279.47,14.5L279.83,275.5L297.81,275.5L299.25,14.5L299.61,275.5L299.97,14.5L300.33,14.5L352.49,14.5L352.85,275.5L353.21,14.5L353.56,275.5L354.64,275.5L363.64,275.5L364.71,14.5L369.75,14.5L370.11,275.5L380.54,275.5L381.26,14.5L398.52,14.5L398.88,275.5L400.68,275.5L401.04,14.5L403.92,14.5L405,275.5L405.36,275.5L405.72,14.5L411.11,14.5L411.47,275.5L428.02,275.5L428.38,14.5L438.45,14.5L438.81,275.5L453.56,275.5L453.92,14.5L471.9,14.5L472.98,275.5L475.5,275.5L475.86,14.5L476.22,14.5L476.58,275.5L480.53,275.5L480.89,14.5L484.49,14.5L485.57,275.5L501.03,275.5L501.39,14.5L526.93,14.5L527.29,275.5L554.27,275.5L554.63,14.5L563.62,14.5L563.98,275.5L594.19,275.5L594.55,14.5L610.38,14.5L611.45,275.5L628,275.5\" style=\"vector-effect: non-scaling-stroke; fill: none; stroke: rgb(31, 119, 180); stroke-opacity: 1; stroke-width: 2px; opacity: 1;\"/></g><g class=\"points\"/><g class=\"text\"/></g></g></g><g class=\"overplot\"/><path class=\"xlines-above crisp\" d=\"M0,0\" style=\"fill: none;\"/><path class=\"ylines-above crisp\" d=\"M0,0\" style=\"fill: none;\"/><g class=\"overlines-above\"/><g class=\"xaxislayer-above\"><g class=\"xtick\"><text text-anchor=\"middle\" x=\"0\" y=\"333\" transform=\"translate(172.92,0)\" style=\"font-family: 'Open Sans', verdana, arial, sans-serif; font-size: 12px; fill: rgb(42, 63, 95); fill-opacity: 1; white-space: pre; opacity: 1;\">2019</text></g><g class=\"xtick\"><text text-anchor=\"middle\" x=\"0\" y=\"333\" style=\"font-family: 'Open Sans', verdana, arial, sans-serif; font-size: 12px; fill: rgb(42, 63, 95); fill-opacity: 1; white-space: pre; opacity: 1;\" transform=\"translate(304.21,0)\">2020</text></g><g class=\"xtick\"><text text-anchor=\"middle\" x=\"0\" y=\"333\" style=\"font-family: 'Open Sans', verdana, arial, sans-serif; font-size: 12px; fill: rgb(42, 63, 95); fill-opacity: 1; white-space: pre; opacity: 1;\" transform=\"translate(435.85,0)\">2021</text></g><g class=\"xtick\"><text text-anchor=\"middle\" x=\"0\" y=\"333\" style=\"font-family: 'Open Sans', verdana, arial, sans-serif; font-size: 12px; fill: rgb(42, 63, 95); fill-opacity: 1; white-space: pre; opacity: 1;\" transform=\"translate(567.13,0)\">2022</text></g></g><g class=\"yaxislayer-above\"><g class=\"ytick\"><text text-anchor=\"end\" x=\"41\" y=\"4.199999999999999\" transform=\"translate(0,305.5)\" style=\"font-family: 'Open Sans', verdana, arial, sans-serif; font-size: 12px; fill: rgb(42, 63, 95); fill-opacity: 1; white-space: pre; opacity: 1;\">false</text></g><g class=\"ytick\"><text text-anchor=\"end\" x=\"41\" y=\"4.199999999999999\" transform=\"translate(0,44.5)\" style=\"font-family: 'Open Sans', verdana, arial, sans-serif; font-size: 12px; fill: rgb(42, 63, 95); fill-opacity: 1; white-space: pre; opacity: 1;\">true</text></g></g><g class=\"overaxes-above\"/></g></g><g class=\"polarlayer\"/><g class=\"smithlayer\"/><g class=\"ternarylayer\"/><g class=\"geolayer\"/><g class=\"funnelarealayer\"/><g class=\"pielayer\"/><g class=\"iciclelayer\"/><g class=\"treemaplayer\"/><g class=\"sunburstlayer\"/><g class=\"glimages\"/><defs id=\"topdefs-98e854\"><g class=\"clips\"/></defs><g class=\"layer-above\"><g class=\"imagelayer\"/><g class=\"shapelayer\"/></g><g class=\"infolayer\"><g class=\"g-gtitle\"/><g class=\"g-xtitle\"/><g class=\"g-ytitle\"/></g></svg>"
     },
     "metadata": {},
     "output_type": "display_data"
    }
   ],
   "source": [
    "ss = pf.position_mask()\n",
    "ss.vbt.plot().show_svg()"
   ]
  },
  {
   "cell_type": "code",
   "execution_count": 54,
   "metadata": {},
   "outputs": [
    {
     "data": {
      "image/svg+xml": "<svg class=\"main-svg\" xmlns=\"http://www.w3.org/2000/svg\" xmlns:xlink=\"http://www.w3.org/1999/xlink\" width=\"700\" height=\"350\" style=\"\" viewBox=\"0 0 700 350\"><rect x=\"0\" y=\"0\" width=\"700\" height=\"350\" style=\"fill: rgb(255, 255, 255); fill-opacity: 1;\"/><defs id=\"defs-abd8cb\"><g class=\"clips\"><clipPath id=\"clipabd8cbxyplot\" class=\"plotclip\"><rect width=\"634\" height=\"290\"/></clipPath><clipPath class=\"axesclip\" id=\"clipabd8cbx\"><rect x=\"36\" y=\"0\" width=\"634\" height=\"350\"/></clipPath><clipPath class=\"axesclip\" id=\"clipabd8cby\"><rect x=\"0\" y=\"30\" width=\"700\" height=\"290\"/></clipPath><clipPath class=\"axesclip\" id=\"clipabd8cbxy\"><rect x=\"36\" y=\"30\" width=\"634\" height=\"290\"/></clipPath></g><g class=\"gradients\"/><g class=\"patterns\"/></defs><g class=\"bglayer\"><rect class=\"bg\" x=\"36\" y=\"30\" width=\"634\" height=\"290\" style=\"fill: rgb(229, 236, 246); fill-opacity: 1; stroke-width: 0;\"/></g><g class=\"layer-below\"><g class=\"imagelayer\"/><g class=\"shapelayer\"/></g><g class=\"cartesianlayer\"><g class=\"subplot xy\"><g class=\"layer-subplot\"><g class=\"shapelayer\"/><g class=\"imagelayer\"/></g><g class=\"minor-gridlayer\"><g class=\"x\"/><g class=\"y\"/></g><g class=\"gridlayer\"><g class=\"x\"><path class=\"xgrid crisp\" transform=\"translate(168.17,0)\" d=\"M0,30v290\" style=\"stroke: rgb(255, 255, 255); stroke-opacity: 1; stroke-width: 1px;\"/><path class=\"xgrid crisp\" transform=\"translate(300.71,0)\" d=\"M0,30v290\" style=\"stroke: rgb(255, 255, 255); stroke-opacity: 1; stroke-width: 1px;\"/><path class=\"xgrid crisp\" transform=\"translate(433.61,0)\" d=\"M0,30v290\" style=\"stroke: rgb(255, 255, 255); stroke-opacity: 1; stroke-width: 1px;\"/><path class=\"xgrid crisp\" transform=\"translate(566.15,0)\" d=\"M0,30v290\" style=\"stroke: rgb(255, 255, 255); stroke-opacity: 1; stroke-width: 1px;\"/></g><g class=\"y\"><path class=\"ygrid crisp\" transform=\"translate(0,299.29)\" d=\"M36,0h634\" style=\"stroke: rgb(255, 255, 255); stroke-opacity: 1; stroke-width: 1px;\"/><path class=\"ygrid crisp\" transform=\"translate(0,261.45)\" d=\"M36,0h634\" style=\"stroke: rgb(255, 255, 255); stroke-opacity: 1; stroke-width: 1px;\"/><path class=\"ygrid crisp\" transform=\"translate(0,223.6)\" d=\"M36,0h634\" style=\"stroke: rgb(255, 255, 255); stroke-opacity: 1; stroke-width: 1px;\"/><path class=\"ygrid crisp\" transform=\"translate(0,185.76)\" d=\"M36,0h634\" style=\"stroke: rgb(255, 255, 255); stroke-opacity: 1; stroke-width: 1px;\"/><path class=\"ygrid crisp\" transform=\"translate(0,147.91)\" d=\"M36,0h634\" style=\"stroke: rgb(255, 255, 255); stroke-opacity: 1; stroke-width: 1px;\"/><path class=\"ygrid crisp\" transform=\"translate(0,110.06)\" d=\"M36,0h634\" style=\"stroke: rgb(255, 255, 255); stroke-opacity: 1; stroke-width: 1px;\"/><path class=\"ygrid crisp\" transform=\"translate(0,72.22)\" d=\"M36,0h634\" style=\"stroke: rgb(255, 255, 255); stroke-opacity: 1; stroke-width: 1px;\"/><path class=\"ygrid crisp\" transform=\"translate(0,34.37)\" d=\"M36,0h634\" style=\"stroke: rgb(255, 255, 255); stroke-opacity: 1; stroke-width: 1px;\"/></g></g><g class=\"zerolinelayer\"/><path class=\"xlines-below\"/><path class=\"ylines-below\"/><g class=\"overlines-below\"/><g class=\"xaxislayer-below\"/><g class=\"yaxislayer-below\"/><g class=\"overaxes-below\"/><g class=\"plot\" transform=\"translate(36,30)\" clip-path=\"url(#clipabd8cbxyplot)\"><g class=\"scatterlayer mlayer\"><g class=\"trace scatter trace425c8c90-ddcd-4a82-b727-ca6eef61c471\" style=\"stroke-miterlimit: 2; opacity: 1;\"><g class=\"fills\"/><g class=\"errorbars\"/><g class=\"lines\"><path class=\"js-line\" d=\"M0,269.29L20.7,269.57L21.06,271.01L22.51,270.16L22.88,270.24L23.24,270.99L23.6,270.11L23.97,268.7L25.05,267.91L25.42,268.72L26.51,269.61L27.6,270.86L27.96,270.9L28.32,272.73L29.05,273.99L30.14,273.99L45.75,273.77L46.12,273.22L46.48,272.11L46.84,272.41L47.93,272.59L48.29,273.3L48.66,272.57L49.02,273.07L49.38,273.35L50.47,272.81L51.56,272.59L51.93,272.41L54.1,273.12L54.47,271.73L56.65,270.38L57.01,271.11L59.19,271.49L59.55,272.31L60.64,272.34L61,273.6L62.09,273.41L63.18,273.41L74.44,273.79L74.8,275.07L76.25,275.34L76.62,270.92L77.34,268.36L78.43,267.94L79.16,268.65L79.52,268.01L79.89,268.25L80.97,267.73L82.06,265.96L82.43,264.29L84.61,265.11L84.97,264.84L86.42,263.45L86.78,262.16L87.51,260.32L88.96,260.02L91.14,263.99L91.51,261.81L91.87,262.91L92.23,260.8L94.05,264.18L94.41,264.18L140.89,264.34L141.98,265.32L143.43,265.44L144.52,263.01L145.25,261.46L145.61,263.17L145.97,263.07L147.06,263.56L148.15,262.86L148.51,263.05L150.69,262.72L151.06,261.75L152.87,260.75L153.23,261.64L153.6,260.71L154.69,260.26L155.41,260.94L155.78,262.14L157.96,261.91L158.32,260.94L158.68,259.76L159.77,258.82L160.13,259.57L160.5,258.77L160.86,255.38L161.22,257.36L162.31,258.47L162.68,259.43L163.04,258.61L163.4,258.49L167.4,252.92L167.76,253.22L168.12,252.67L168.49,253.49L170.3,253.35L170.66,251.46L171.03,251.08L172.48,250.77L172.84,249.33L173.21,249.48L173.57,250.4L173.93,250.87L175.02,250.73L175.38,252.65L175.75,247.84L176.11,248.5L176.47,247.23L177.56,248.84L177.93,251.57L178.29,251.55L178.65,252.63L179.02,254.16L180.11,254.16L191.36,254.36L191.73,255.05L192.81,254.48L193.18,252.22L193.54,252.52L193.9,251.73L195.36,252.16L195.72,253.65L196.45,251.59L196.81,252.5L199.35,249.37L200.44,251.45L201.89,249.83L202.98,248.88L203.71,249.81L204.07,248.66L204.43,250.19L205.52,247.89L206.25,247.18L206.61,247.99L208.07,246.68L208.43,247.12L208.79,245.02L210.97,254.94L211.33,254.94L221.5,255.12L221.86,253.26L223.32,252.86L223.68,251.72L224.04,248.61L224.41,248.83L224.77,250.8L226.22,249.91L226.58,248.98L227.31,251.25L228.4,250.8L228.76,251.27L229.13,249.77L229.85,250.76L230.94,248.43L231.3,248.16L231.67,250.69L232.03,249.86L232.39,247.06L233.48,247.04L233.85,248.23L234.94,242.91L236.03,243.07L237.11,243.32L237.48,242.82L241.11,237.11L241.47,239.71L241.84,239.73L242.2,237.23L242.56,234.05L243.65,233.3L244.38,233.4L244.74,232.07L246.92,229.79L247.28,230.62L247.64,229.21L248.73,228.62L249.46,230.37L249.82,230.91L250.19,231.02L251.28,228.94L251.64,229.88L252,228.27L252.73,228.55L253.82,229.94L254.18,232.07L254.54,231.04L254.91,229.3L255.27,226.97L256.36,228.69L259.26,222.6L259.63,222.91L259.99,222.78L260.35,223.04L261.44,220.98L261.81,220.85L262.53,218.3L262.9,218.36L263.99,217.58L265.07,213.59L265.44,214.91L266.53,213.84L266.89,214.47L267.25,212.31L267.98,209.09L269.07,206.09L269.79,208.64L270.16,206.87L270.52,205.3L271.97,206.27L272.7,205.06L273.06,205.48L274.15,209.71L274.88,202.77L275.24,202.97L275.6,209.45L276.69,209.85L277.06,205.24L277.78,202.37L278.15,204.36L279.24,203.67L279.6,204.56L279.96,201.13L280.33,202.17L280.69,202.14L282.14,204.83L282.5,203.02L302.11,203.3L302.48,196.21L302.84,196.51L303.2,195.3L305.02,205.16L305.38,200.99L305.74,201.57L306.11,197.3L307.2,197.2L307.56,199.65L308.29,191.47L308.65,194.01L309.74,191.81L312.28,179.6L312.64,181.54L313.73,183.54L314.82,179.62L315.18,180.62L315.55,177.34L315.91,178.61L316.27,177.51L317.73,178.68L320.63,174.16L320.99,175.66L321.36,170.73L322.45,169.68L323.17,159.23L323.54,168.36L325.35,159.64L325.71,159.92L326.08,159.84L326.44,160.91L327.53,156L327.89,151.87L328.26,155.36L328.62,152.77L328.98,158.82L330.07,154.43L330.44,152.79L330.8,153.18L331.16,153.18L332.61,147.93L332.98,148.55L333.34,143.88L334.07,142.63L335.16,143.6L335.88,138.75L336.25,141.34L336.61,141.77L337.7,137.4L338.06,140.3L338.42,139.72L338.79,149.26L339.15,149.76L340.24,145.02L340.6,148.38L340.97,144.52L341.33,142.05L341.69,120.36L343.51,112.18L343.87,103.91L344.23,109.49L345.32,106L345.69,113.22L346.05,105.4L346.41,101.09L346.78,101.31L347.86,101.95L348.95,94.05L349.32,80.94L350.41,77.73L350.77,79.95L351.13,76.31L351.5,79.56L351.86,79.99L352.95,70.88L353.31,59.81L353.67,65.8L354.04,88.45L354.4,88.28L355.85,105.81L356.22,96.62L356.58,97.11L356.94,100.91L368.2,101.39L368.56,107.95L368.93,107.77L369.29,108.72L370.74,118.11L371.1,115.08L372.19,119.98L373.28,119.96L374.37,117.34L374.74,117.34L384.9,117.79L385.99,112.94L386.72,104.98L387.08,105.25L387.44,106.62L388.9,102.41L389.26,107.55L389.62,104.66L389.99,106.3L391.08,107.55L392.16,93.88L392.53,97.91L393.62,94.81L393.98,87.6L394.34,89.42L394.71,87.42L396.16,78.1L396.52,81.7L398.7,92.48L399.06,89.32L399.43,98.03L399.79,89.5L400.15,87.27L401.61,93.68L401.97,89.56L402.7,97.46L404.15,97.46L404.87,97.95L405.24,93.94L406.69,86.47L407.05,88.48L407.78,106.91L408.87,103.42L409.59,103.9L409.96,97.62L410.32,98.4L411.41,98.13L412.5,101.37L412.86,100.93L414.32,104.9L414.68,109.18L415.4,111.42L416.49,111.42L432.47,111.88L432.83,107.35L433.2,102.49L434.29,105.73L435.38,99.73L435.74,100.35L436.83,99.1L437.19,102.29L437.55,101.57L437.92,104.44L438.28,100.06L439.37,99.32L440.46,101.6L440.82,105.33L441.91,103.34L442.27,111.97L442.64,111.51L443,108.97L458.25,109.44L458.62,111.83L460.07,105.49L460.43,105.99L460.79,106.52L461.16,107.06L462.25,104.05L463.7,94.71L465.15,91L466.24,85.43L467.33,86.53L468.06,78.14L468.42,79.35L468.78,83.12L469.87,90.22L470.23,83.55L470.6,84.9L470.96,82.38L471.32,79.21L472.41,78.43L473.14,85.66L473.5,84.47L473.87,84.07L474.96,84.69L475.32,81.37L476.41,83.17L477.5,83.79L480.4,84.31L480.77,91L484.03,90.91L485.12,90.91L485.49,91.42L485.85,90.28L486.58,87.27L488.03,83.25L488.75,87.66L489.12,96.22L491.66,95.75L492.75,95.75L506.18,96.25L506.55,89.99L506.91,94.65L508,96.06L509.45,91.79L510.54,93.2L510.9,92.58L511.27,97.44L511.63,97.52L511.99,93.96L513.08,93.94L513.45,92.26L514.53,76.21L515.62,75.42L516.35,73.87L517.08,82.49L518.17,76.73L518.53,68.22L519.26,70.81L519.62,74.04L520.71,68.19L521.07,58.33L522.16,44.43L523.25,50.67L523.61,53.04L523.98,44.68L524.7,58.4L525.79,60.74L526.88,49.76L528.33,42.95L529.79,47.59L530.88,40.13L532.33,57.25L533.42,57.25L559.92,57.82L560.29,56.75L561.38,55.29L561.74,49.73L562.83,57.42L563.92,50.59L565.37,64.4L566.46,71.58L567.19,63.89L567.55,72.34L569,72.71L569.37,69.41L600.23,69.96L600.59,64.31L600.96,61.09L602.05,66.96L603.14,51.29L603.5,53.67L604.59,55.83L604.95,58.39L606.04,37.73L607.13,39.62L607.49,42.46L607.86,30.88L609.67,32.83L610.03,32.73L611.12,19.14L612.21,17.07L612.58,17.38L612.94,14.5L613.3,15.26L613.67,20.24L615.12,28.36L615.48,27.79L615.84,23.06L616.21,35.19L617.3,40.05L634,40.05\" style=\"vector-effect: non-scaling-stroke; fill: none; stroke: rgb(31, 119, 180); stroke-opacity: 1; stroke-width: 2px; opacity: 1;\"/></g><g class=\"points\"/><g class=\"text\"/></g></g></g><g class=\"overplot\"/><path class=\"xlines-above crisp\" d=\"M0,0\" style=\"fill: none;\"/><path class=\"ylines-above crisp\" d=\"M0,0\" style=\"fill: none;\"/><g class=\"overlines-above\"/><g class=\"xaxislayer-above\"><g class=\"xtick\"><text text-anchor=\"middle\" x=\"0\" y=\"333\" transform=\"translate(168.17,0)\" style=\"font-family: 'Open Sans', verdana, arial, sans-serif; font-size: 12px; fill: rgb(42, 63, 95); fill-opacity: 1; white-space: pre; opacity: 1;\">2019</text></g><g class=\"xtick\"><text text-anchor=\"middle\" x=\"0\" y=\"333\" style=\"font-family: 'Open Sans', verdana, arial, sans-serif; font-size: 12px; fill: rgb(42, 63, 95); fill-opacity: 1; white-space: pre; opacity: 1;\" transform=\"translate(300.71,0)\">2020</text></g><g class=\"xtick\"><text text-anchor=\"middle\" x=\"0\" y=\"333\" style=\"font-family: 'Open Sans', verdana, arial, sans-serif; font-size: 12px; fill: rgb(42, 63, 95); fill-opacity: 1; white-space: pre; opacity: 1;\" transform=\"translate(433.61,0)\">2021</text></g><g class=\"xtick\"><text text-anchor=\"middle\" x=\"0\" y=\"333\" style=\"font-family: 'Open Sans', verdana, arial, sans-serif; font-size: 12px; fill: rgb(42, 63, 95); fill-opacity: 1; white-space: pre; opacity: 1;\" transform=\"translate(566.15,0)\">2022</text></g></g><g class=\"yaxislayer-above\"><g class=\"ytick\"><text text-anchor=\"end\" x=\"35\" y=\"4.199999999999999\" transform=\"translate(0,299.29)\" style=\"font-family: 'Open Sans', verdana, arial, sans-serif; font-size: 12px; fill: rgb(42, 63, 95); fill-opacity: 1; white-space: pre; opacity: 1;\">100</text></g><g class=\"ytick\"><text text-anchor=\"end\" x=\"35\" y=\"4.199999999999999\" style=\"font-family: 'Open Sans', verdana, arial, sans-serif; font-size: 12px; fill: rgb(42, 63, 95); fill-opacity: 1; white-space: pre; opacity: 1;\" transform=\"translate(0,261.45)\">150</text></g><g class=\"ytick\"><text text-anchor=\"end\" x=\"35\" y=\"4.199999999999999\" style=\"font-family: 'Open Sans', verdana, arial, sans-serif; font-size: 12px; fill: rgb(42, 63, 95); fill-opacity: 1; white-space: pre; opacity: 1;\" transform=\"translate(0,223.6)\">200</text></g><g class=\"ytick\"><text text-anchor=\"end\" x=\"35\" y=\"4.199999999999999\" style=\"font-family: 'Open Sans', verdana, arial, sans-serif; font-size: 12px; fill: rgb(42, 63, 95); fill-opacity: 1; white-space: pre; opacity: 1;\" transform=\"translate(0,185.76)\">250</text></g><g class=\"ytick\"><text text-anchor=\"end\" x=\"35\" y=\"4.199999999999999\" style=\"font-family: 'Open Sans', verdana, arial, sans-serif; font-size: 12px; fill: rgb(42, 63, 95); fill-opacity: 1; white-space: pre; opacity: 1;\" transform=\"translate(0,147.91)\">300</text></g><g class=\"ytick\"><text text-anchor=\"end\" x=\"35\" y=\"4.199999999999999\" style=\"font-family: 'Open Sans', verdana, arial, sans-serif; font-size: 12px; fill: rgb(42, 63, 95); fill-opacity: 1; white-space: pre; opacity: 1;\" transform=\"translate(0,110.06)\">350</text></g><g class=\"ytick\"><text text-anchor=\"end\" x=\"35\" y=\"4.199999999999999\" style=\"font-family: 'Open Sans', verdana, arial, sans-serif; font-size: 12px; fill: rgb(42, 63, 95); fill-opacity: 1; white-space: pre; opacity: 1;\" transform=\"translate(0,72.22)\">400</text></g><g class=\"ytick\"><text text-anchor=\"end\" x=\"35\" y=\"4.199999999999999\" style=\"font-family: 'Open Sans', verdana, arial, sans-serif; font-size: 12px; fill: rgb(42, 63, 95); fill-opacity: 1; white-space: pre; opacity: 1;\" transform=\"translate(0,34.37)\">450</text></g></g><g class=\"overaxes-above\"/></g></g><g class=\"polarlayer\"/><g class=\"smithlayer\"/><g class=\"ternarylayer\"/><g class=\"geolayer\"/><g class=\"funnelarealayer\"/><g class=\"pielayer\"/><g class=\"iciclelayer\"/><g class=\"treemaplayer\"/><g class=\"sunburstlayer\"/><g class=\"glimages\"/><defs id=\"topdefs-abd8cb\"><g class=\"clips\"/></defs><g class=\"layer-above\"><g class=\"imagelayer\"/><g class=\"shapelayer\"/></g><g class=\"infolayer\"><g class=\"g-gtitle\"/><g class=\"g-xtitle\"/><g class=\"g-ytitle\"/></g></svg>"
     },
     "metadata": {},
     "output_type": "display_data"
    }
   ],
   "source": [
    "ss = pf.value()\n",
    "ss.vbt.plot().show_svg()"
   ]
  }
 ],
 "metadata": {
  "kernelspec": {
   "display_name": "Python 3.10.8 64-bit (microsoft store)",
   "language": "python",
   "name": "python3"
  },
  "language_info": {
   "codemirror_mode": {
    "name": "ipython",
    "version": 3
   },
   "file_extension": ".py",
   "mimetype": "text/x-python",
   "name": "python",
   "nbconvert_exporter": "python",
   "pygments_lexer": "ipython3",
   "version": "3.10.8"
  },
  "orig_nbformat": 4,
  "vscode": {
   "interpreter": {
    "hash": "ed0e3b5f0fec94de6625d57c59183dd9b7f56ab2c93113c97d611f39bfef112b"
   }
  }
 },
 "nbformat": 4,
 "nbformat_minor": 2
}
